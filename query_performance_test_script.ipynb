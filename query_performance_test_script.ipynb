{
 "cells": [
  {
   "cell_type": "markdown",
   "id": "af8d32d4-9c88-4bb2-9e08-2e3adb1a920b",
   "metadata": {},
   "source": [
    "# TPCDS: Query Performance Test Script"
   ]
  },
  {
   "cell_type": "code",
   "execution_count": 1,
   "id": "b008de62-98a8-4de9-a4cd-003e80e6f7e8",
   "metadata": {},
   "outputs": [],
   "source": [
    "import os\n",
    "import numpy as np\n",
    "import pandas as pd\n",
    "from utils import connect_postgres, get_files_absolute_path_from_dir, execute_sql\n",
    "from datetime import datetime\n",
    "from IPython.display import clear_output"
   ]
  },
  {
   "cell_type": "code",
   "execution_count": 2,
   "id": "f1c703bb-49b5-46fc-b585-5eb778a9f272",
   "metadata": {},
   "outputs": [],
   "source": [
    "# scale factor being tested\n",
    "sf = 'sf_1'"
   ]
  },
  {
   "cell_type": "code",
   "execution_count": 3,
   "id": "1e736ce3-98e4-4d55-b26e-feae085ecd89",
   "metadata": {},
   "outputs": [
    {
     "name": "stdout",
     "output_type": "stream",
     "text": [
      "PostgreSQL server information\n",
      "{'user': 'postgres', 'channel_binding': 'prefer', 'dbname': 'tpcds', 'host': 'localhost', 'port': '25433', 'options': '', 'sslmode': 'prefer', 'sslcompression': '0', 'sslcertmode': 'allow', 'sslsni': '1', 'ssl_min_protocol_version': 'TLSv1.2', 'gssencmode': 'prefer', 'krbsrvname': 'postgres', 'gssdelegation': '0', 'target_session_attrs': 'any', 'load_balance_hosts': 'disable'} \n",
      "\n",
      "You are connected to -  ('PostgreSQL 17.0 (Debian 17.0-1.pgdg120+1) on x86_64-pc-linux-gnu, compiled by gcc (Debian 12.2.0-14) 12.2.0, 64-bit',) \n",
      "\n"
     ]
    }
   ],
   "source": [
    "db_name = \"tpcds\"\n",
    "cur = connect_postgres(db_name)"
   ]
  },
  {
   "cell_type": "code",
   "execution_count": 6,
   "id": "52df0ead",
   "metadata": {},
   "outputs": [
    {
     "name": "stdout",
     "output_type": "stream",
     "text": [
      "SQL Status Output:\n",
      " DO\n"
     ]
    }
   ],
   "source": [
    "# drop all indexes\n",
    "execute_sql(cur, os.path.join(\"index_setup\", \"drop_all_indexes.sql\"))"
   ]
  },
  {
   "cell_type": "code",
   "execution_count": 5,
   "id": "58d67ee7",
   "metadata": {},
   "outputs": [
    {
     "name": "stdout",
     "output_type": "stream",
     "text": [
      "SQL Status Output:\n",
      " CREATE INDEX\n"
     ]
    }
   ],
   "source": [
    "# create indexes\n",
    "execute_sql(cur, os.path.join(\"index_setup\", \"index_setup.sql\"))"
   ]
  },
  {
   "cell_type": "code",
   "execution_count": 3,
   "id": "3e7a51e5-6f5c-4cdf-ac2e-4b47a8e5b54d",
   "metadata": {},
   "outputs": [
    {
     "name": "stdout",
     "output_type": "stream",
     "text": [
      "/home/alfio/Desktop/DataWarehouse/TPC_DS/tpcds-benchmark/all_queries/optimized_queries_final\n"
     ]
    }
   ],
   "source": [
    "# get dir path\n",
    "\n",
    "path = os.path.join(os.getcwd(), 'all_queries', 'optimized_queries_final')\n",
    "files = os.listdir(path)\n",
    "print(path)"
   ]
  },
  {
   "cell_type": "code",
   "execution_count": 4,
   "id": "d93031fe-af21-4094-9037-048a3e7ff5cd",
   "metadata": {},
   "outputs": [
    {
     "name": "stdout",
     "output_type": "stream",
     "text": [
      "Total files: 99\n",
      "First few files...\n",
      "['/home/alfio/Desktop/DataWarehouse/TPC_DS/tpcds-benchmark/all_queries/optimized_queries_final/query-08.sql', '/home/alfio/Desktop/DataWarehouse/TPC_DS/tpcds-benchmark/all_queries/optimized_queries_final/query-79.sql', '/home/alfio/Desktop/DataWarehouse/TPC_DS/tpcds-benchmark/all_queries/optimized_queries_final/query-06.sql', '/home/alfio/Desktop/DataWarehouse/TPC_DS/tpcds-benchmark/all_queries/optimized_queries_final/query-81.sql', '/home/alfio/Desktop/DataWarehouse/TPC_DS/tpcds-benchmark/all_queries/optimized_queries_final/query-30.sql']\n"
     ]
    }
   ],
   "source": [
    "files_abs_path = get_files_absolute_path_from_dir(path)"
   ]
  },
  {
   "cell_type": "code",
   "execution_count": 11,
   "id": "bab192fd-3d39-4160-86ae-d2ea2c282f25",
   "metadata": {},
   "outputs": [],
   "source": [
    "# setup dataframe for recording query execution run times\n",
    "\n",
    "query_name_list = []\n",
    "\n",
    "for i in range(len(files)):\n",
    "    query_name_list.append(\"Q\" + files[i][-6:-4])\n",
    "    \n",
    "query_name_dict = {'query':query_name_list}\n",
    "exec_details_df = pd.DataFrame(query_name_dict)"
   ]
  },
  {
   "cell_type": "code",
   "execution_count": 12,
   "id": "31cfb8dd-64c3-4809-b52a-56febc2c9f0b",
   "metadata": {},
   "outputs": [
    {
     "name": "stdout",
     "output_type": "stream",
     "text": [
      "Overall Run Start: 17/10/2024 18:03:02\n"
     ]
    }
   ],
   "source": [
    "# get the date-time before all 99 queries have run (with iterations if chosen)\n",
    "\n",
    "run_start_default = datetime.now()\n",
    "# dd/mm/YY H:M:S\n",
    "run_start = run_start_default.strftime(\"%d/%m/%Y %H:%M:%S\")\n",
    "print(\"Overall Run Start:\", run_start)"
   ]
  },
  {
   "cell_type": "code",
   "execution_count": 15,
   "id": "52809ed8-270c-4678-aaa2-65031ba3c523",
   "metadata": {},
   "outputs": [
    {
     "name": "stdout",
     "output_type": "stream",
     "text": [
      "Iteration 3\n",
      "\n",
      "Q08: Success, Execution Time: 0.06s\n",
      "Q79: Success, Execution Time: 0.33s\n",
      "Q06: Success, Execution Time: 0.14s\n",
      "Q81: Success, Execution Time: 0.06s\n",
      "Q30: Success, Execution Time: 11.42s\n",
      "Q83: Success, Execution Time: 0.10s\n",
      "Q46: Success, Execution Time: 0.44s\n",
      "Q90: Success, Execution Time: 0.10s\n",
      "Q62: Success, Execution Time: 0.14s\n",
      "Q16: Success, Execution Time: 2.47s\n",
      "Q82: Success, Execution Time: 0.04s\n",
      "Q89: Success, Execution Time: 0.31s\n",
      "Q72: Success, Execution Time: 0.31s\n",
      "Q75: Success, Execution Time: 1.26s\n",
      "Q17: Success, Execution Time: 2.30s\n",
      "Q77: Success, Execution Time: 0.48s\n",
      "Q32: Success, Execution Time: 0.09s\n",
      "Q11: Success, Execution Time: 5.40s\n",
      "Q19: Success, Execution Time: 0.21s\n",
      "Q64: Success, Execution Time: 0.34s\n",
      "Q66: Success, Execution Time: 0.20s\n",
      "Q61: Success, Execution Time: 0.15s\n",
      "Q87: Success, Execution Time: 1.21s\n",
      "Q57: Success, Execution Time: 1.08s\n",
      "Q27: Success, Execution Time: 0.49s\n",
      "Q60: Success, Execution Time: 1.42s\n",
      "Q53: Success, Execution Time: 0.25s\n",
      "Q88: Success, Execution Time: 3.71s\n",
      "Q25: Success, Execution Time: 1.73s\n",
      "Q13: Success, Execution Time: 0.37s\n",
      "Q97: Success, Execution Time: 0.49s\n",
      "Q67: Success, Execution Time: 1.58s\n",
      "Q84: Success, Execution Time: 0.04s\n",
      "Q76: Success, Execution Time: 0.28s\n",
      "Q55: Success, Execution Time: 0.16s\n",
      "Q43: Success, Execution Time: 0.66s\n",
      "Q42: Success, Execution Time: 0.15s\n",
      "Q39: Success, Execution Time: 5.20s\n",
      "Q49: Success, Execution Time: 0.08s\n",
      "Q36: Success, Execution Time: 0.64s\n",
      "Q26: Success, Execution Time: 0.28s\n",
      "Q01: Success, Execution Time: 0.12s\n",
      "Q93: Success, Execution Time: 0.05s\n",
      "Q23: Success, Execution Time: 6.96s\n",
      "Q47: Success, Execution Time: 2.11s\n",
      "Q91: Success, Execution Time: 0.03s\n",
      "Q04: Success, Execution Time: 9.06s\n",
      "Q09: Success, Execution Time: 2.91s\n",
      "Q07: Success, Execution Time: 0.76s\n",
      "Q59: Success, Execution Time: 0.67s\n",
      "Q56: Success, Execution Time: 0.47s\n",
      "Q71: Success, Execution Time: 0.33s\n",
      "Q33: Success, Execution Time: 0.43s\n",
      "Q85: Success, Execution Time: 0.08s\n",
      "Q63: Success, Execution Time: 0.25s\n",
      "Q10: Success, Execution Time: 6.27s\n",
      "Q98: Success, Execution Time: 0.15s\n",
      "Q21: Success, Execution Time: 0.51s\n",
      "Q52: Success, Execution Time: 0.22s\n",
      "Q35: Success, Execution Time: 1.23s\n",
      "Q31: Success, Execution Time: 5.96s\n",
      "Q54: Success, Execution Time: 61.03s\n",
      "Q50: Success, Execution Time: 0.04s\n",
      "Q96: Success, Execution Time: 0.16s\n",
      "Q99: Success, Execution Time: 0.36s\n",
      "Q34: Success, Execution Time: 0.17s\n",
      "Q14: Success, Execution Time: 47.37s\n",
      "Q68: Success, Execution Time: 0.35s\n",
      "Q78: Success, Execution Time: 2.56s\n",
      "Q18: Success, Execution Time: 0.32s\n",
      "Q37: Success, Execution Time: 0.02s\n",
      "Q51: Success, Execution Time: 1.27s\n",
      "Q70: Success, Execution Time: 0.74s\n",
      "Q44: Success, Execution Time: 0.14s\n",
      "Q48: Success, Execution Time: 0.53s\n",
      "Q28: Success, Execution Time: 2.14s\n",
      "Q58: Success, Execution Time: 0.37s\n",
      "Q41: Success, Execution Time: 1.35s\n",
      "Q05: Success, Execution Time: 0.83s\n",
      "Q94: Success, Execution Time: 0.13s\n",
      "Q69: Success, Execution Time: 0.52s\n",
      "Q24: Success, Execution Time: 0.26s\n",
      "Q38: Success, Execution Time: 1.20s\n",
      "Q15: Success, Execution Time: 0.12s\n",
      "Q86: Success, Execution Time: 0.18s\n",
      "Q22: Success, Execution Time: 5.71s\n",
      "Q03: Success, Execution Time: 0.03s\n",
      "Q92: Success, Execution Time: 0.05s\n",
      "Q80: Success, Execution Time: 0.48s\n",
      "Q65: Success, Execution Time: 0.87s\n",
      "Q40: Success, Execution Time: 0.09s\n",
      "Q02: Success, Execution Time: 0.51s\n",
      "Q95: Success, Execution Time: 0.91s\n",
      "Q20: Success, Execution Time: 0.13s\n",
      "Q45: Success, Execution Time: 0.09s\n",
      "Q74: Success, Execution Time: 1.85s\n",
      "Q12: Success, Execution Time: 0.07s\n",
      "Q29: Success, Execution Time: 1.48s\n",
      "Q73: Success, Execution Time: 0.20s\n",
      "\n",
      "SF_1, Iteration 3, Total run time for the 99 queries: 0.06hr\n"
     ]
    }
   ],
   "source": [
    "# run all 99 queries in sequence, and multiple iterations if chosen\n",
    "# save query result table output\n",
    "# save query execution run time (for all iterations)\n",
    "\n",
    "q_errors = 0\n",
    "exec_details = []\n",
    "# choose number of iterations to run\n",
    "n_iterations = 3\n",
    "\n",
    "for i in range(1, n_iterations + 1):\n",
    "    \n",
    "    clear_output(wait = True)\n",
    "    print(f'Iteration {i}\\n')\n",
    "    q_index = 0\n",
    "    exec_details = []\n",
    "    iteration_start = datetime.now()\n",
    "    for sql_script in files_abs_path:\n",
    "\n",
    "        exec_start = datetime.now()\n",
    "        try:\n",
    "            cur.execute(\n",
    "                open(sql_script, \"r\").read()\n",
    "            )\n",
    "        except Exception as e:\n",
    "            q_errors += 1\n",
    "            outcome = \"Error\"\n",
    "        else:\n",
    "            outcome = \"Success\"\n",
    "\n",
    "        exec_end = datetime.now()\n",
    "        exec_run_time = \"{:.2f}\".format((exec_end - exec_start).total_seconds())\n",
    "        query_num = query_name_list[q_index]\n",
    "        print(f'{query_num}: Success, Execution Time: {exec_run_time}s')\n",
    "        exec_details.append(exec_run_time)\n",
    "        \n",
    "        # load table output to csv file (on first iteration only)\n",
    "        if i == 1:\n",
    "            df = pd.DataFrame(cur.fetchall(), columns = [desc[0] for desc in cur.description])\n",
    "            df.to_csv(f'performance_test/{sf}/{query_num}.csv', index = False)\n",
    "        else:\n",
    "            pass\n",
    "        \n",
    "        q_index += 1\n",
    "        \n",
    "    iteration_end = datetime.now()    \n",
    "    iteration_run_time = \"{:.2f}\".format(((iteration_end - iteration_start).total_seconds()) / 3600)\n",
    "    print(f'\\n{sf.upper()}, Iteration {i}, Total run time for the 99 queries: {iteration_run_time}hr')\n",
    "    \n",
    "    # append iteration execution details to dataframe\n",
    "    exec_details_df[f'exec_time_iter_{i}'] = np.array(exec_details)"
   ]
  },
  {
   "cell_type": "code",
   "execution_count": 16,
   "id": "64668b17-7249-4548-adef-57abb20006a6",
   "metadata": {},
   "outputs": [
    {
     "name": "stdout",
     "output_type": "stream",
     "text": [
      "We have a total of 0 queries with error\n"
     ]
    }
   ],
   "source": [
    "# check total amount of query errors\n",
    "\n",
    "print(f\"We have a total of {q_errors} queries with error\")"
   ]
  },
  {
   "cell_type": "code",
   "execution_count": 17,
   "id": "1819485d-62df-45c1-b091-075091f943d4",
   "metadata": {},
   "outputs": [
    {
     "name": "stdout",
     "output_type": "stream",
     "text": [
      "Overall Run End (with 3 iterations): 17/10/2024 18:17:35\n"
     ]
    }
   ],
   "source": [
    "# get the date-time after all 99 queries have run (with iterations if chosen)\n",
    "\n",
    "run_end_default = datetime.now()\n",
    "# dd/mm/YY H:M:S\n",
    "run_end = run_end_default.strftime(\"%d/%m/%Y %H:%M:%S\")\n",
    "print(f\"Overall Run End (with {n_iterations} iterations):\", run_end)"
   ]
  },
  {
   "cell_type": "code",
   "execution_count": 18,
   "id": "f217c0fd-d1ed-4a30-b372-2be45fd7172a",
   "metadata": {},
   "outputs": [
    {
     "name": "stdout",
     "output_type": "stream",
     "text": [
      "Total run time for the 99 queries (with 3 iterations): 0.24hr\n"
     ]
    }
   ],
   "source": [
    "# get the total run time (in hours) for all 99 queries to complete (with iterations if chosen)\n",
    "\n",
    "total_run_time = \"{:.2f}\".format(((run_end_default - run_start_default).total_seconds()) / 3600)\n",
    "print(f'Total run time for the 99 queries (with {n_iterations} iterations): {total_run_time}hr')"
   ]
  },
  {
   "cell_type": "code",
   "execution_count": 19,
   "id": "f910ef6d-0070-4503-946f-0a7426d28cf6",
   "metadata": {},
   "outputs": [
    {
     "data": {
      "text/html": [
       "<div>\n",
       "<style scoped>\n",
       "    .dataframe tbody tr th:only-of-type {\n",
       "        vertical-align: middle;\n",
       "    }\n",
       "\n",
       "    .dataframe tbody tr th {\n",
       "        vertical-align: top;\n",
       "    }\n",
       "\n",
       "    .dataframe thead th {\n",
       "        text-align: right;\n",
       "    }\n",
       "</style>\n",
       "<table border=\"1\" class=\"dataframe\">\n",
       "  <thead>\n",
       "    <tr style=\"text-align: right;\">\n",
       "      <th></th>\n",
       "      <th>query</th>\n",
       "      <th>exec_time_iter_1</th>\n",
       "      <th>exec_time_iter_2</th>\n",
       "      <th>exec_time_iter_3</th>\n",
       "      <th>avg_exec_time</th>\n",
       "    </tr>\n",
       "  </thead>\n",
       "  <tbody>\n",
       "    <tr>\n",
       "      <th>0</th>\n",
       "      <td>Q08</td>\n",
       "      <td>0.06</td>\n",
       "      <td>0.07</td>\n",
       "      <td>0.06</td>\n",
       "      <td>0.06</td>\n",
       "    </tr>\n",
       "    <tr>\n",
       "      <th>1</th>\n",
       "      <td>Q79</td>\n",
       "      <td>0.47</td>\n",
       "      <td>0.34</td>\n",
       "      <td>0.33</td>\n",
       "      <td>0.38</td>\n",
       "    </tr>\n",
       "    <tr>\n",
       "      <th>2</th>\n",
       "      <td>Q06</td>\n",
       "      <td>0.14</td>\n",
       "      <td>0.14</td>\n",
       "      <td>0.14</td>\n",
       "      <td>0.14</td>\n",
       "    </tr>\n",
       "    <tr>\n",
       "      <th>3</th>\n",
       "      <td>Q81</td>\n",
       "      <td>0.07</td>\n",
       "      <td>0.06</td>\n",
       "      <td>0.06</td>\n",
       "      <td>0.06</td>\n",
       "    </tr>\n",
       "    <tr>\n",
       "      <th>4</th>\n",
       "      <td>Q30</td>\n",
       "      <td>10.90</td>\n",
       "      <td>11.16</td>\n",
       "      <td>11.42</td>\n",
       "      <td>11.16</td>\n",
       "    </tr>\n",
       "    <tr>\n",
       "      <th>...</th>\n",
       "      <td>...</td>\n",
       "      <td>...</td>\n",
       "      <td>...</td>\n",
       "      <td>...</td>\n",
       "      <td>...</td>\n",
       "    </tr>\n",
       "    <tr>\n",
       "      <th>94</th>\n",
       "      <td>Q45</td>\n",
       "      <td>0.07</td>\n",
       "      <td>0.08</td>\n",
       "      <td>0.09</td>\n",
       "      <td>0.08</td>\n",
       "    </tr>\n",
       "    <tr>\n",
       "      <th>95</th>\n",
       "      <td>Q74</td>\n",
       "      <td>1.72</td>\n",
       "      <td>1.97</td>\n",
       "      <td>1.85</td>\n",
       "      <td>1.85</td>\n",
       "    </tr>\n",
       "    <tr>\n",
       "      <th>96</th>\n",
       "      <td>Q12</td>\n",
       "      <td>0.08</td>\n",
       "      <td>0.05</td>\n",
       "      <td>0.07</td>\n",
       "      <td>0.07</td>\n",
       "    </tr>\n",
       "    <tr>\n",
       "      <th>97</th>\n",
       "      <td>Q29</td>\n",
       "      <td>1.38</td>\n",
       "      <td>1.41</td>\n",
       "      <td>1.48</td>\n",
       "      <td>1.42</td>\n",
       "    </tr>\n",
       "    <tr>\n",
       "      <th>98</th>\n",
       "      <td>Q73</td>\n",
       "      <td>0.17</td>\n",
       "      <td>0.15</td>\n",
       "      <td>0.20</td>\n",
       "      <td>0.17</td>\n",
       "    </tr>\n",
       "  </tbody>\n",
       "</table>\n",
       "<p>99 rows × 5 columns</p>\n",
       "</div>"
      ],
      "text/plain": [
       "   query exec_time_iter_1 exec_time_iter_2 exec_time_iter_3  avg_exec_time\n",
       "0    Q08             0.06             0.07             0.06           0.06\n",
       "1    Q79             0.47             0.34             0.33           0.38\n",
       "2    Q06             0.14             0.14             0.14           0.14\n",
       "3    Q81             0.07             0.06             0.06           0.06\n",
       "4    Q30            10.90            11.16            11.42          11.16\n",
       "..   ...              ...              ...              ...            ...\n",
       "94   Q45             0.07             0.08             0.09           0.08\n",
       "95   Q74             1.72             1.97             1.85           1.85\n",
       "96   Q12             0.08             0.05             0.07           0.07\n",
       "97   Q29             1.38             1.41             1.48           1.42\n",
       "98   Q73             0.17             0.15             0.20           0.17\n",
       "\n",
       "[99 rows x 5 columns]"
      ]
     },
     "execution_count": 19,
     "metadata": {},
     "output_type": "execute_result"
    }
   ],
   "source": [
    "# full details on query execution times (including iterations & average)\n",
    "# load execution details to csv\n",
    "\n",
    "exec_details_df['avg_exec_time'] = np.round(exec_details_df.iloc[:, 1:].apply(pd.to_numeric).mean(axis = 1), 2)\n",
    "exec_details_df.to_csv(f'performance_test/{sf}/exec_time_details_{sf}.csv', index = False)\n",
    "exec_details_df"
   ]
  },
  {
   "cell_type": "code",
   "execution_count": 6,
   "id": "ba54f295-b4df-4eae-87ce-5cb19774b69d",
   "metadata": {},
   "outputs": [],
   "source": [
    "# close connection to db\n",
    "\n",
    "cur.close()"
   ]
  },
  {
   "cell_type": "markdown",
   "id": "23cf3748-16e4-4621-8e52-174008329d3b",
   "metadata": {},
   "source": [
    "#### End of script."
   ]
  }
 ],
 "metadata": {
  "kernelspec": {
   "display_name": "Python 3 (ipykernel)",
   "language": "python",
   "name": "python3"
  },
  "language_info": {
   "codemirror_mode": {
    "name": "ipython",
    "version": 3
   },
   "file_extension": ".py",
   "mimetype": "text/x-python",
   "name": "python",
   "nbconvert_exporter": "python",
   "pygments_lexer": "ipython3",
   "version": "3.10.7"
  }
 },
 "nbformat": 4,
 "nbformat_minor": 5
}
