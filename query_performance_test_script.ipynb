{
 "cells": [
  {
   "cell_type": "markdown",
   "id": "af8d32d4-9c88-4bb2-9e08-2e3adb1a920b",
   "metadata": {},
   "source": [
    "# TPCDS: Query Performance Test Script"
   ]
  },
  {
   "cell_type": "code",
   "execution_count": 2,
   "id": "b008de62-98a8-4de9-a4cd-003e80e6f7e8",
   "metadata": {},
   "outputs": [],
   "source": [
    "import os\n",
    "import numpy as np\n",
    "import pandas as pd\n",
    "from utils import connect_postgres, get_files_absolute_path_from_dir, execute_sql\n",
    "from datetime import datetime\n",
    "from IPython.display import clear_output\n",
    "import shutil"
   ]
  },
  {
   "cell_type": "code",
   "execution_count": 2,
   "id": "f1c703bb-49b5-46fc-b585-5eb778a9f272",
   "metadata": {},
   "outputs": [],
   "source": [
    "# scale factor being tested\n",
    "sf = 'sf_1'"
   ]
  },
  {
   "cell_type": "code",
   "execution_count": 3,
   "id": "1e736ce3-98e4-4d55-b26e-feae085ecd89",
   "metadata": {},
   "outputs": [
    {
     "name": "stdout",
     "output_type": "stream",
     "text": [
      "PostgreSQL server information\n",
      "{'user': 'postgres', 'channel_binding': 'prefer', 'dbname': 'tpcds', 'host': 'localhost', 'port': '5432', 'options': '', 'sslmode': 'prefer', 'sslcompression': '0', 'sslcertmode': 'allow', 'sslsni': '1', 'ssl_min_protocol_version': 'TLSv1.2', 'gssencmode': 'disable', 'krbsrvname': 'postgres', 'gssdelegation': '0', 'target_session_attrs': 'any', 'load_balance_hosts': 'disable'} \n",
      "\n",
      "You are connected to -  ('PostgreSQL 16.4, compiled by Visual C++ build 1940, 64-bit',) \n",
      "\n"
     ]
    }
   ],
   "source": [
    "db_name = \"tpcds\"\n",
    "cur = connect_postgres(db_name)"
   ]
  },
  {
   "cell_type": "code",
   "execution_count": 4,
   "id": "52df0ead",
   "metadata": {},
   "outputs": [
    {
     "name": "stdout",
     "output_type": "stream",
     "text": [
      "SQL Status Output:\n",
      " DO\n"
     ]
    }
   ],
   "source": [
    "# drop all indexes\n",
    "execute_sql(cur, os.path.join(\"index_setup\", \"drop_all_indexes.sql\"))"
   ]
  },
  {
   "cell_type": "code",
   "execution_count": 5,
   "id": "58d67ee7",
   "metadata": {},
   "outputs": [
    {
     "name": "stdout",
     "output_type": "stream",
     "text": [
      "SQL Status Output:\n",
      " CREATE INDEX\n"
     ]
    }
   ],
   "source": [
    "# create indexes\n",
    "execute_sql(cur, os.path.join(\"index_setup\", \"index_setup.sql\"))"
   ]
  },
  {
   "cell_type": "code",
   "execution_count": 4,
   "id": "9c82c674-290a-4785-980a-2a0c4da18136",
   "metadata": {},
   "outputs": [],
   "source": [
    "# directories\n",
    "prev_dir = os.path.join(os.getcwd(), 'all_queries', 'prev_optimized_queries')\n",
    "our_dir = os.path.join(os.getcwd(), 'all_queries', 'our_optimized_queries')\n",
    "final_dir = os.path.join(os.getcwd(), 'all_queries', 'optimized_queries_final')\n",
    "\n",
    "# create the final directory if not exists\n",
    "if not os.path.exists(final_dir):\n",
    "    os.makedirs(final_dir)\n",
    "\n",
    "# list of .sql files in each directory\n",
    "prev_files = [f for f in os.listdir(prev_dir) if f.endswith('.sql')]\n",
    "our_files = [f for f in os.listdir(our_dir) if f.endswith('.sql')]\n",
    "\n",
    "# set of all files\n",
    "all_files = set(prev_files).union(set(our_files))\n",
    "\n",
    "for filename in all_files:\n",
    "    if filename in our_files:\n",
    "        # take from our_optimized_queries\n",
    "        src = os.path.join(our_dir, filename)\n",
    "    else:\n",
    "        # take from prev_optimized_queries\n",
    "        src = os.path.join(prev_dir, filename)\n",
    "    dst = os.path.join(final_dir, filename)\n",
    "    shutil.copyfile(src, dst)"
   ]
  },
  {
   "cell_type": "code",
   "execution_count": 6,
   "id": "3e7a51e5-6f5c-4cdf-ac2e-4b47a8e5b54d",
   "metadata": {},
   "outputs": [
    {
     "name": "stdout",
     "output_type": "stream",
     "text": [
      "D:\\BDMA\\Data Warehouses\\tpcds-benchmark\\all_queries\\prev_optimized_queries\n"
     ]
    }
   ],
   "source": [
    "# get dir path\n",
    "\n",
    "path = os.path.join(os.getcwd(), 'all_queries', 'prev_optimized_queries')\n",
    "files = os.listdir(path)\n",
    "print(path)"
   ]
  },
  {
   "cell_type": "code",
   "execution_count": 7,
   "id": "d93031fe-af21-4094-9037-048a3e7ff5cd",
   "metadata": {},
   "outputs": [
    {
     "name": "stdout",
     "output_type": "stream",
     "text": [
      "Total files: 99\n",
      "First few files...\n",
      "['D:/BDMA/Data Warehouses/tpcds-benchmark/all_queries/prev_optimized_queries/query-01.sql', 'D:/BDMA/Data Warehouses/tpcds-benchmark/all_queries/prev_optimized_queries/query-02.sql', 'D:/BDMA/Data Warehouses/tpcds-benchmark/all_queries/prev_optimized_queries/query-03.sql', 'D:/BDMA/Data Warehouses/tpcds-benchmark/all_queries/prev_optimized_queries/query-04.sql', 'D:/BDMA/Data Warehouses/tpcds-benchmark/all_queries/prev_optimized_queries/query-05.sql']\n"
     ]
    }
   ],
   "source": [
    "files_abs_path = get_files_absolute_path_from_dir(path)"
   ]
  },
  {
   "cell_type": "code",
   "execution_count": 8,
   "id": "bab192fd-3d39-4160-86ae-d2ea2c282f25",
   "metadata": {},
   "outputs": [],
   "source": [
    "# setup dataframe for recording query execution run times\n",
    "\n",
    "query_name_list = []\n",
    "\n",
    "for i in range(len(files)):\n",
    "    query_name_list.append(\"Q\" + files[i][-6:-4])\n",
    "    \n",
    "query_name_dict = {'query':query_name_list}\n",
    "exec_details_df = pd.DataFrame(query_name_dict)"
   ]
  },
  {
   "cell_type": "code",
   "execution_count": 9,
   "id": "31cfb8dd-64c3-4809-b52a-56febc2c9f0b",
   "metadata": {},
   "outputs": [
    {
     "name": "stdout",
     "output_type": "stream",
     "text": [
      "Overall Run Start: 23/10/2024 14:33:24\n"
     ]
    }
   ],
   "source": [
    "# get the date-time before all 99 queries have run (with iterations if chosen)\n",
    "\n",
    "run_start_default = datetime.now()\n",
    "# dd/mm/YY H:M:S\n",
    "run_start = run_start_default.strftime(\"%d/%m/%Y %H:%M:%S\")\n",
    "print(\"Overall Run Start:\", run_start)"
   ]
  },
  {
   "cell_type": "code",
   "execution_count": 10,
   "id": "52809ed8-270c-4678-aaa2-65031ba3c523",
   "metadata": {},
   "outputs": [
    {
     "name": "stdout",
     "output_type": "stream",
     "text": [
      "Iteration 3\n",
      "\n",
      "Q01: Success, Execution Time: 0.28s\n",
      "Q02: Success, Execution Time: 0.91s\n",
      "Q03: Success, Execution Time: 0.03s\n",
      "Q04: Success, Execution Time: 3279.80s\n",
      "Q05: Success, Execution Time: 2.61s\n",
      "Q06: Success, Execution Time: 0.43s\n",
      "Q07: Success, Execution Time: 3.91s\n",
      "Q08: Success, Execution Time: 0.17s\n",
      "Q09: Success, Execution Time: 4.62s\n",
      "Q10: Success, Execution Time: 8.58s\n",
      "Q11: Success, Execution Time: 39.40s\n",
      "Q12: Success, Execution Time: 0.14s\n",
      "Q13: Success, Execution Time: 1.15s\n",
      "Q14: Success, Execution Time: 202.82s\n",
      "Q15: Success, Execution Time: 0.54s\n",
      "Q16: Success, Execution Time: 9.33s\n",
      "Q17: Success, Execution Time: 2.95s\n",
      "Q18: Success, Execution Time: 0.57s\n",
      "Q19: Success, Execution Time: 0.26s\n",
      "Q20: Success, Execution Time: 0.30s\n",
      "Q21: Success, Execution Time: 0.73s\n",
      "Q22: Success, Execution Time: 43.28s\n",
      "Q23: Success, Execution Time: 43.73s\n",
      "Q24: Success, Execution Time: 0.15s\n",
      "Q25: Success, Execution Time: 1.99s\n",
      "Q26: Success, Execution Time: 2.20s\n",
      "Q27: Success, Execution Time: 2.98s\n",
      "Q28: Success, Execution Time: 3.98s\n",
      "Q29: Success, Execution Time: 1.10s\n",
      "Q30: Success, Execution Time: 254.35s\n",
      "Q31: Success, Execution Time: 28.20s\n",
      "Q32: Success, Execution Time: 0.16s\n",
      "Q33: Success, Execution Time: 0.60s\n",
      "Q34: Success, Execution Time: 0.54s\n",
      "Q35: Success, Execution Time: 2.97s\n",
      "Q36: Success, Execution Time: 4.32s\n",
      "Q37: Success, Execution Time: 0.09s\n",
      "Q38: Success, Execution Time: 10.46s\n",
      "Q39: Success, Execution Time: 18.16s\n",
      "Q40: Success, Execution Time: 0.30s\n",
      "Q41: Success, Execution Time: 8.97s\n",
      "Q42: Success, Execution Time: 0.26s\n",
      "Q43: Success, Execution Time: 3.03s\n",
      "Q44: Success, Execution Time: 0.46s\n",
      "Q45: Success, Execution Time: 3.05s\n",
      "Q46: Success, Execution Time: 1.25s\n",
      "Q47: Success, Execution Time: 11.99s\n",
      "Q48: Success, Execution Time: 1.66s\n",
      "Q49: Success, Execution Time: 0.43s\n",
      "Q50: Success, Execution Time: 0.17s\n",
      "Q51: Success, Execution Time: 6.88s\n",
      "Q52: Success, Execution Time: 0.25s\n",
      "Q53: Success, Execution Time: 0.55s\n",
      "Q54: Success, Execution Time: 0.59s\n",
      "Q55: Success, Execution Time: 0.23s\n",
      "Q56: Success, Execution Time: 1.34s\n",
      "Q57: Success, Execution Time: 6.26s\n",
      "Q58: Success, Execution Time: 0.41s\n",
      "Q59: Success, Execution Time: 2.45s\n",
      "Q60: Success, Execution Time: 3.18s\n",
      "Q61: Success, Execution Time: 0.12s\n",
      "Q62: Success, Execution Time: 0.64s\n",
      "Q63: Success, Execution Time: 0.54s\n",
      "Q64: Success, Execution Time: 1.48s\n",
      "Q65: Success, Execution Time: 5.30s\n",
      "Q66: Success, Execution Time: 0.89s\n",
      "Q67: Success, Execution Time: 15.63s\n",
      "Q68: Success, Execution Time: 0.50s\n",
      "Q69: Success, Execution Time: 1.32s\n",
      "Q70: Success, Execution Time: 3.00s\n",
      "Q71: Success, Execution Time: 1.44s\n",
      "Q72: Success, Execution Time: 1.55s\n",
      "Q73: Success, Execution Time: 0.46s\n",
      "Q74: Success, Execution Time: 18.77s\n",
      "Q75: Success, Execution Time: 6.84s\n",
      "Q76: Success, Execution Time: 16.80s\n",
      "Q77: Success, Execution Time: 0.69s\n",
      "Q78: Success, Execution Time: 15.12s\n",
      "Q79: Success, Execution Time: 1.05s\n",
      "Q80: Success, Execution Time: 1.10s\n",
      "Q81: Success, Execution Time: 0.31s\n",
      "Q82: Success, Execution Time: 0.08s\n",
      "Q83: Success, Execution Time: 0.36s\n",
      "Q84: Success, Execution Time: 0.14s\n",
      "Q85: Success, Execution Time: 0.44s\n",
      "Q86: Success, Execution Time: 1.11s\n",
      "Q87: Success, Execution Time: 11.19s\n",
      "Q88: Success, Execution Time: 5.00s\n",
      "Q89: Success, Execution Time: 1.07s\n",
      "Q90: Success, Execution Time: 0.43s\n",
      "Q91: Success, Execution Time: 0.08s\n",
      "Q92: Success, Execution Time: 0.08s\n",
      "Q93: Success, Execution Time: 0.29s\n",
      "Q94: Success, Execution Time: 1.13s\n",
      "Q95: Success, Execution Time: 35.14s\n",
      "Q96: Success, Execution Time: 0.57s\n",
      "Q97: Success, Execution Time: 2.88s\n",
      "Q98: Success, Execution Time: 0.54s\n",
      "Q99: Success, Execution Time: 1.26s\n",
      "\n",
      "SF_4, Iteration 3, Total run time for the 99 queries: 1.16hr\n"
     ]
    }
   ],
   "source": [
    "# run all 99 queries in sequence, and multiple iterations if chosen\n",
    "# save query result table output\n",
    "# save query execution run time (for all iterations)\n",
    "\n",
    "q_errors = 0\n",
    "exec_details = []\n",
    "# choose number of iterations to run\n",
    "n_iterations = 3\n",
    "\n",
    "for i in range(1, n_iterations + 1):\n",
    "    \n",
    "    clear_output(wait = True)\n",
    "    print(f'Iteration {i}\\n')\n",
    "    q_index = 0\n",
    "    exec_details = []\n",
    "    iteration_start = datetime.now()\n",
    "    for sql_script in files_abs_path:\n",
    "\n",
    "        exec_start = datetime.now()\n",
    "        try:\n",
    "            cur.execute(\n",
    "                open(sql_script, \"r\").read()\n",
    "            )\n",
    "        except Exception as e:\n",
    "            q_errors += 1\n",
    "            outcome = \"Error\"\n",
    "        else:\n",
    "            outcome = \"Success\"\n",
    "\n",
    "        exec_end = datetime.now()\n",
    "        exec_run_time = \"{:.2f}\".format((exec_end - exec_start).total_seconds())\n",
    "        query_num = query_name_list[q_index]\n",
    "        print(f'{query_num}: Success, Execution Time: {exec_run_time}s')\n",
    "        exec_details.append(exec_run_time)\n",
    "        \n",
    "        # load table output to csv file (on first iteration only)\n",
    "        if i == 1:\n",
    "            df = pd.DataFrame(cur.fetchall(), columns = [desc[0] for desc in cur.description])\n",
    "            df.to_csv(f'performance_test/{sf}/{query_num}.csv', index = False)\n",
    "        else:\n",
    "            pass\n",
    "        \n",
    "        q_index += 1\n",
    "        \n",
    "    iteration_end = datetime.now()    \n",
    "    iteration_run_time = \"{:.2f}\".format(((iteration_end - iteration_start).total_seconds()) / 3600)\n",
    "    print(f'\\n{sf.upper()}, Iteration {i}, Total run time for the 99 queries: {iteration_run_time}hr')\n",
    "    \n",
    "    # append iteration execution details to dataframe\n",
    "    exec_details_df[f'exec_time_iter_{i}'] = np.array(exec_details)"
   ]
  },
  {
   "cell_type": "code",
   "execution_count": 11,
   "id": "64668b17-7249-4548-adef-57abb20006a6",
   "metadata": {},
   "outputs": [
    {
     "name": "stdout",
     "output_type": "stream",
     "text": [
      "We have a total of 0 queries with error\n"
     ]
    }
   ],
   "source": [
    "# check total amount of query errors\n",
    "\n",
    "print(f\"We have a total of {q_errors} queries with error\")"
   ]
  },
  {
   "cell_type": "code",
   "execution_count": 12,
   "id": "1819485d-62df-45c1-b091-075091f943d4",
   "metadata": {},
   "outputs": [
    {
     "name": "stdout",
     "output_type": "stream",
     "text": [
      "Overall Run End (with 3 iterations): 23/10/2024 17:35:41\n"
     ]
    }
   ],
   "source": [
    "# get the date-time after all 99 queries have run (with iterations if chosen)\n",
    "\n",
    "run_end_default = datetime.now()\n",
    "# dd/mm/YY H:M:S\n",
    "run_end = run_end_default.strftime(\"%d/%m/%Y %H:%M:%S\")\n",
    "print(f\"Overall Run End (with {n_iterations} iterations):\", run_end)"
   ]
  },
  {
   "cell_type": "code",
   "execution_count": 13,
   "id": "f217c0fd-d1ed-4a30-b372-2be45fd7172a",
   "metadata": {},
   "outputs": [
    {
     "name": "stdout",
     "output_type": "stream",
     "text": [
      "Total run time for the 99 queries (with 3 iterations): 3.04hr\n"
     ]
    }
   ],
   "source": [
    "# get the total run time (in hours) for all 99 queries to complete (with iterations if chosen)\n",
    "\n",
    "total_run_time = \"{:.2f}\".format(((run_end_default - run_start_default).total_seconds()) / 3600)\n",
    "print(f'Total run time for the 99 queries (with {n_iterations} iterations): {total_run_time}hr')"
   ]
  },
  {
   "cell_type": "code",
   "execution_count": 14,
   "id": "f910ef6d-0070-4503-946f-0a7426d28cf6",
   "metadata": {},
   "outputs": [
    {
     "data": {
      "text/html": [
       "<div>\n",
       "<style scoped>\n",
       "    .dataframe tbody tr th:only-of-type {\n",
       "        vertical-align: middle;\n",
       "    }\n",
       "\n",
       "    .dataframe tbody tr th {\n",
       "        vertical-align: top;\n",
       "    }\n",
       "\n",
       "    .dataframe thead th {\n",
       "        text-align: right;\n",
       "    }\n",
       "</style>\n",
       "<table border=\"1\" class=\"dataframe\">\n",
       "  <thead>\n",
       "    <tr style=\"text-align: right;\">\n",
       "      <th></th>\n",
       "      <th>query</th>\n",
       "      <th>exec_time_iter_1</th>\n",
       "      <th>exec_time_iter_2</th>\n",
       "      <th>exec_time_iter_3</th>\n",
       "      <th>avg_exec_time</th>\n",
       "    </tr>\n",
       "  </thead>\n",
       "  <tbody>\n",
       "    <tr>\n",
       "      <th>0</th>\n",
       "      <td>Q01</td>\n",
       "      <td>1.25</td>\n",
       "      <td>0.28</td>\n",
       "      <td>0.28</td>\n",
       "      <td>0.60</td>\n",
       "    </tr>\n",
       "    <tr>\n",
       "      <th>1</th>\n",
       "      <td>Q02</td>\n",
       "      <td>1.03</td>\n",
       "      <td>0.92</td>\n",
       "      <td>0.91</td>\n",
       "      <td>0.95</td>\n",
       "    </tr>\n",
       "    <tr>\n",
       "      <th>2</th>\n",
       "      <td>Q03</td>\n",
       "      <td>0.12</td>\n",
       "      <td>0.03</td>\n",
       "      <td>0.03</td>\n",
       "      <td>0.06</td>\n",
       "    </tr>\n",
       "    <tr>\n",
       "      <th>3</th>\n",
       "      <td>Q04</td>\n",
       "      <td>2835.68</td>\n",
       "      <td>2867.35</td>\n",
       "      <td>3279.80</td>\n",
       "      <td>2994.28</td>\n",
       "    </tr>\n",
       "    <tr>\n",
       "      <th>4</th>\n",
       "      <td>Q05</td>\n",
       "      <td>1.50</td>\n",
       "      <td>1.39</td>\n",
       "      <td>2.61</td>\n",
       "      <td>1.83</td>\n",
       "    </tr>\n",
       "    <tr>\n",
       "      <th>...</th>\n",
       "      <td>...</td>\n",
       "      <td>...</td>\n",
       "      <td>...</td>\n",
       "      <td>...</td>\n",
       "      <td>...</td>\n",
       "    </tr>\n",
       "    <tr>\n",
       "      <th>94</th>\n",
       "      <td>Q95</td>\n",
       "      <td>18.81</td>\n",
       "      <td>18.72</td>\n",
       "      <td>35.14</td>\n",
       "      <td>24.22</td>\n",
       "    </tr>\n",
       "    <tr>\n",
       "      <th>95</th>\n",
       "      <td>Q96</td>\n",
       "      <td>0.33</td>\n",
       "      <td>0.34</td>\n",
       "      <td>0.57</td>\n",
       "      <td>0.41</td>\n",
       "    </tr>\n",
       "    <tr>\n",
       "      <th>96</th>\n",
       "      <td>Q97</td>\n",
       "      <td>1.57</td>\n",
       "      <td>1.57</td>\n",
       "      <td>2.88</td>\n",
       "      <td>2.01</td>\n",
       "    </tr>\n",
       "    <tr>\n",
       "      <th>97</th>\n",
       "      <td>Q98</td>\n",
       "      <td>0.27</td>\n",
       "      <td>0.28</td>\n",
       "      <td>0.54</td>\n",
       "      <td>0.36</td>\n",
       "    </tr>\n",
       "    <tr>\n",
       "      <th>98</th>\n",
       "      <td>Q99</td>\n",
       "      <td>0.71</td>\n",
       "      <td>0.71</td>\n",
       "      <td>1.26</td>\n",
       "      <td>0.89</td>\n",
       "    </tr>\n",
       "  </tbody>\n",
       "</table>\n",
       "<p>99 rows × 5 columns</p>\n",
       "</div>"
      ],
      "text/plain": [
       "   query exec_time_iter_1 exec_time_iter_2 exec_time_iter_3  avg_exec_time\n",
       "0    Q01             1.25             0.28             0.28           0.60\n",
       "1    Q02             1.03             0.92             0.91           0.95\n",
       "2    Q03             0.12             0.03             0.03           0.06\n",
       "3    Q04          2835.68          2867.35          3279.80        2994.28\n",
       "4    Q05             1.50             1.39             2.61           1.83\n",
       "..   ...              ...              ...              ...            ...\n",
       "94   Q95            18.81            18.72            35.14          24.22\n",
       "95   Q96             0.33             0.34             0.57           0.41\n",
       "96   Q97             1.57             1.57             2.88           2.01\n",
       "97   Q98             0.27             0.28             0.54           0.36\n",
       "98   Q99             0.71             0.71             1.26           0.89\n",
       "\n",
       "[99 rows x 5 columns]"
      ]
     },
     "execution_count": 14,
     "metadata": {},
     "output_type": "execute_result"
    }
   ],
   "source": [
    "# full details on query execution times (including iterations & average)\n",
    "# load execution details to csv\n",
    "\n",
    "exec_details_df['avg_exec_time'] = np.round(exec_details_df.iloc[:, 1:].apply(pd.to_numeric).mean(axis = 1), 2)\n",
    "exec_details_df.to_csv(f'performance_test/{sf}/exec_time_details_{sf}.csv', index = False)\n",
    "exec_details_df"
   ]
  },
  {
   "cell_type": "code",
   "execution_count": 15,
   "id": "ba54f295-b4df-4eae-87ce-5cb19774b69d",
   "metadata": {},
   "outputs": [],
   "source": [
    "# close connection to db\n",
    "\n",
    "cur.close()"
   ]
  },
  {
   "cell_type": "markdown",
   "id": "23cf3748-16e4-4621-8e52-174008329d3b",
   "metadata": {},
   "source": [
    "#### End of script."
   ]
  }
 ],
 "metadata": {
  "kernelspec": {
   "display_name": "Python 3 (ipykernel)",
   "language": "python",
   "name": "python3"
  },
  "language_info": {
   "codemirror_mode": {
    "name": "ipython",
    "version": 3
   },
   "file_extension": ".py",
   "mimetype": "text/x-python",
   "name": "python",
   "nbconvert_exporter": "python",
   "pygments_lexer": "ipython3",
   "version": "3.12.5"
  }
 },
 "nbformat": 4,
 "nbformat_minor": 5
}
