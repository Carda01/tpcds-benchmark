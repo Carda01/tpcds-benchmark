{
 "cells": [
  {
   "cell_type": "markdown",
   "metadata": {},
   "source": [
    "# Data Processing for Query Execution Times\n",
    "\n",
    "We will process and merge execution time data from different sets of queries to prepare it for analysis in a Power BI dashboard. The final dataset will have the following columns:\n",
    "\n",
    "- **Query Number**\n",
    "- **Scale Factor**\n",
    "- **Type** (Base Queries / Referenced Queries / Our Queries)\n",
    "- **Average Execution Time**"
   ]
  },
  {
   "cell_type": "code",
   "execution_count": 29,
   "metadata": {
    "vscode": {
     "languageId": "plaintext"
    }
   },
   "outputs": [],
   "source": [
    "import os, re\n",
    "import pandas as pd\n",
    "from utils import get_files_absolute_path_from_dir, exclude_non_csv_files"
   ]
  },
  {
   "cell_type": "code",
   "execution_count": 30,
   "metadata": {},
   "outputs": [],
   "source": [
    "base_dir = os.path.join(os.getcwd(), 'performance_test', 'quieries_prior_to_optimization')\n",
    "referenced_dir = os.path.join(os.getcwd(), 'performance_test', 'queries_optimized_in_referenced_work')\n",
    "our_dir = os.path.join('.', 'performance_test', 'queries_optimized_by_us')"
   ]
  },
  {
   "cell_type": "code",
   "execution_count": 38,
   "metadata": {},
   "outputs": [
    {
     "name": "stdout",
     "output_type": "stream",
     "text": [
      "D:\\BDMA\\Data Warehouses\\tpcds-benchmark\\performance_test\\quieries_prior_to_optimization\\sf_1\\exec_time_details_sf_1.csv\n",
      "D:\\BDMA\\Data Warehouses\\tpcds-benchmark\\performance_test\\quieries_prior_to_optimization\\sf_2\\exec_time_details_sf_2.csv\n",
      "D:\\BDMA\\Data Warehouses\\tpcds-benchmark\\performance_test\\quieries_prior_to_optimization\\sf_3\\exec_time_details_sf_3.csv\n",
      "D:\\BDMA\\Data Warehouses\\tpcds-benchmark\\performance_test\\queries_optimized_in_referenced_work\\sf_1\\exec_time_details_sf_1.csv\n",
      "D:\\BDMA\\Data Warehouses\\tpcds-benchmark\\performance_test\\queries_optimized_in_referenced_work\\sf_2\\exec_time_details_sf_2.csv\n",
      "D:\\BDMA\\Data Warehouses\\tpcds-benchmark\\performance_test\\queries_optimized_in_referenced_work\\sf_3\\exec_time_details_sf_3.csv\n",
      "D:\\BDMA\\Data Warehouses\\tpcds-benchmark\\performance_test\\queries_optimized_in_referenced_work\\sf_4\\exec_time_details_sf_4.csv\n",
      ".\\performance_test\\queries_optimized_by_us\\sf_1\\exec_time_details_sf_1.csv\n",
      ".\\performance_test\\queries_optimized_by_us\\sf_2\\exec_time_details_sf_2.csv\n",
      ".\\performance_test\\queries_optimized_by_us\\sf_3\\exec_time_details_sf_3.csv\n",
      ".\\performance_test\\queries_optimized_by_us\\sf_4\\exec_time_details_sf_4.csv\n"
     ]
    }
   ],
   "source": [
    "# sf for base queries\n",
    "base_sfs = [1, 2, 3]\n",
    "\n",
    "base_csv_files = []\n",
    "for sf in base_sfs:\n",
    "    sf_dir = os.path.join(base_dir, f'sf_{sf}')\n",
    "    file_name = f'exec_time_details_sf_{sf}.csv'\n",
    "    file_path = os.path.join(sf_dir, file_name)\n",
    "    base_csv_files.append(file_path)\n",
    "\n",
    "# sf for referenced queries\n",
    "referenced_sfs = [1, 2, 3, 4]\n",
    "\n",
    "referenced_csv_files = []\n",
    "for sf in referenced_sfs:\n",
    "    sf_dir = os.path.join(referenced_dir, f'sf_{sf}')\n",
    "    file_name = f'exec_time_details_sf_{sf}.csv'\n",
    "    file_path = os.path.join(sf_dir, file_name)\n",
    "    referenced_csv_files.append(file_path)\n",
    "\n",
    "# sf for our queries\n",
    "our_sfs = [1, 2, 3, 4]\n",
    "\n",
    "our_csv_files = []\n",
    "for sf in our_sfs:\n",
    "    sf_dir = os.path.join(our_dir, f'sf_{sf}')\n",
    "    file_name = f'exec_time_details_sf_{sf}.csv'\n",
    "    file_path = os.path.join(sf_dir, file_name)\n",
    "    our_csv_files.append(file_path)\n",
    "\n",
    "for file in base_csv_files:\n",
    "    print(file)\n",
    "for file in referenced_csv_files:\n",
    "    print(file)\n",
    "for file in our_csv_files:\n",
    "    print(file)"
   ]
  },
  {
   "cell_type": "code",
   "execution_count": 32,
   "metadata": {},
   "outputs": [],
   "source": [
    "def process_csv_files(file_list, query_type):\n",
    "    dfs = []\n",
    "    for file in file_list:\n",
    "        if not os.path.isfile(file):\n",
    "            print(f\"File not found: {file}\")\n",
    "            continue\n",
    "        \n",
    "        try:\n",
    "            df = pd.read_csv(file)\n",
    "        except Exception as e:\n",
    "            print(f\"Error reading {file}: {e}\")\n",
    "            continue\n",
    "        \n",
    "        if 'avg_exec_time' in df.columns:\n",
    "            df = df[['query', 'avg_exec_time']]\n",
    "        else:\n",
    "            print(f\"'avg_exec_time' column not found in {file}\")\n",
    "            continue\n",
    "        \n",
    "        # sf from the file path\n",
    "        sf_dir = os.path.basename(os.path.dirname(file))\n",
    "        sf = int(sf_dir.split('_')[-1])\n",
    "        df['Scale Factor'] = sf\n",
    "        # Add the 'Type' column\n",
    "        df['Type'] = query_type\n",
    "        dfs.append(df)\n",
    "    if dfs:\n",
    "        combined_df = pd.concat(dfs, ignore_index=True)\n",
    "        return combined_df\n",
    "    else:\n",
    "        return pd.DataFrame(columns=['query', 'avg_exec_time', 'Scale Factor', 'Type'])"
   ]
  },
  {
   "cell_type": "code",
   "execution_count": 33,
   "metadata": {},
   "outputs": [
    {
     "name": "stdout",
     "output_type": "stream",
     "text": [
      "Processing Base Queries...\n",
      "Processing Referenced Queries...\n",
      "Processing Our Queries...\n"
     ]
    }
   ],
   "source": [
    "print(\"Processing Base Queries...\")\n",
    "base_queries_df = process_csv_files(base_csv_files, 'Base Queries')\n",
    "\n",
    "print(\"Processing Referenced Queries...\")\n",
    "referenced_queries_df = process_csv_files(referenced_csv_files, 'Referenced Queries')\n",
    "\n",
    "print(\"Processing Our Queries...\")\n",
    "our_queries_df = process_csv_files(our_csv_files, 'Our Queries')"
   ]
  },
  {
   "cell_type": "code",
   "execution_count": 34,
   "metadata": {},
   "outputs": [
    {
     "data": {
      "text/html": [
       "<div>\n",
       "<style scoped>\n",
       "    .dataframe tbody tr th:only-of-type {\n",
       "        vertical-align: middle;\n",
       "    }\n",
       "\n",
       "    .dataframe tbody tr th {\n",
       "        vertical-align: top;\n",
       "    }\n",
       "\n",
       "    .dataframe thead th {\n",
       "        text-align: right;\n",
       "    }\n",
       "</style>\n",
       "<table border=\"1\" class=\"dataframe\">\n",
       "  <thead>\n",
       "    <tr style=\"text-align: right;\">\n",
       "      <th></th>\n",
       "      <th>query</th>\n",
       "      <th>avg_exec_time</th>\n",
       "      <th>Scale Factor</th>\n",
       "      <th>Type</th>\n",
       "    </tr>\n",
       "  </thead>\n",
       "  <tbody>\n",
       "    <tr>\n",
       "      <th>0</th>\n",
       "      <td>Q01</td>\n",
       "      <td>1269.67</td>\n",
       "      <td>1</td>\n",
       "      <td>Base Queries</td>\n",
       "    </tr>\n",
       "    <tr>\n",
       "      <th>1</th>\n",
       "      <td>Q02</td>\n",
       "      <td>0.55</td>\n",
       "      <td>1</td>\n",
       "      <td>Base Queries</td>\n",
       "    </tr>\n",
       "    <tr>\n",
       "      <th>2</th>\n",
       "      <td>Q03</td>\n",
       "      <td>0.27</td>\n",
       "      <td>1</td>\n",
       "      <td>Base Queries</td>\n",
       "    </tr>\n",
       "    <tr>\n",
       "      <th>3</th>\n",
       "      <td>Q04</td>\n",
       "      <td>3106.44</td>\n",
       "      <td>1</td>\n",
       "      <td>Base Queries</td>\n",
       "    </tr>\n",
       "    <tr>\n",
       "      <th>4</th>\n",
       "      <td>Q05</td>\n",
       "      <td>0.42</td>\n",
       "      <td>1</td>\n",
       "      <td>Base Queries</td>\n",
       "    </tr>\n",
       "  </tbody>\n",
       "</table>\n",
       "</div>"
      ],
      "text/plain": [
       "  query  avg_exec_time  Scale Factor          Type\n",
       "0   Q01        1269.67             1  Base Queries\n",
       "1   Q02           0.55             1  Base Queries\n",
       "2   Q03           0.27             1  Base Queries\n",
       "3   Q04        3106.44             1  Base Queries\n",
       "4   Q05           0.42             1  Base Queries"
      ]
     },
     "execution_count": 34,
     "metadata": {},
     "output_type": "execute_result"
    }
   ],
   "source": [
    "# merge\n",
    "final_df = pd.concat([base_queries_df, referenced_queries_df, our_queries_df], ignore_index=True)\n",
    "final_df.head()"
   ]
  },
  {
   "cell_type": "code",
   "execution_count": 35,
   "metadata": {},
   "outputs": [],
   "source": [
    "# rename\n",
    "final_df.rename(columns={\n",
    "    'query': 'Query Number',\n",
    "    'avg_exec_time': 'Average Execution Time'\n",
    "}, inplace=True)\n",
    "\n",
    "# reorder\n",
    "final_df = final_df[['Query Number', 'Scale Factor', 'Type', 'Average Execution Time']]"
   ]
  },
  {
   "cell_type": "code",
   "execution_count": 36,
   "metadata": {},
   "outputs": [
    {
     "data": {
      "text/html": [
       "<div>\n",
       "<style scoped>\n",
       "    .dataframe tbody tr th:only-of-type {\n",
       "        vertical-align: middle;\n",
       "    }\n",
       "\n",
       "    .dataframe tbody tr th {\n",
       "        vertical-align: top;\n",
       "    }\n",
       "\n",
       "    .dataframe thead th {\n",
       "        text-align: right;\n",
       "    }\n",
       "</style>\n",
       "<table border=\"1\" class=\"dataframe\">\n",
       "  <thead>\n",
       "    <tr style=\"text-align: right;\">\n",
       "      <th></th>\n",
       "      <th>Query Number</th>\n",
       "      <th>Scale Factor</th>\n",
       "      <th>Type</th>\n",
       "      <th>Average Execution Time</th>\n",
       "    </tr>\n",
       "  </thead>\n",
       "  <tbody>\n",
       "    <tr>\n",
       "      <th>0</th>\n",
       "      <td>Q01</td>\n",
       "      <td>1</td>\n",
       "      <td>Base Queries</td>\n",
       "      <td>1269.67</td>\n",
       "    </tr>\n",
       "    <tr>\n",
       "      <th>1</th>\n",
       "      <td>Q02</td>\n",
       "      <td>1</td>\n",
       "      <td>Base Queries</td>\n",
       "      <td>0.55</td>\n",
       "    </tr>\n",
       "    <tr>\n",
       "      <th>2</th>\n",
       "      <td>Q03</td>\n",
       "      <td>1</td>\n",
       "      <td>Base Queries</td>\n",
       "      <td>0.27</td>\n",
       "    </tr>\n",
       "    <tr>\n",
       "      <th>3</th>\n",
       "      <td>Q04</td>\n",
       "      <td>1</td>\n",
       "      <td>Base Queries</td>\n",
       "      <td>3106.44</td>\n",
       "    </tr>\n",
       "    <tr>\n",
       "      <th>4</th>\n",
       "      <td>Q05</td>\n",
       "      <td>1</td>\n",
       "      <td>Base Queries</td>\n",
       "      <td>0.42</td>\n",
       "    </tr>\n",
       "  </tbody>\n",
       "</table>\n",
       "</div>"
      ],
      "text/plain": [
       "  Query Number  Scale Factor          Type  Average Execution Time\n",
       "0          Q01             1  Base Queries                 1269.67\n",
       "1          Q02             1  Base Queries                    0.55\n",
       "2          Q03             1  Base Queries                    0.27\n",
       "3          Q04             1  Base Queries                 3106.44\n",
       "4          Q05             1  Base Queries                    0.42"
      ]
     },
     "execution_count": 36,
     "metadata": {},
     "output_type": "execute_result"
    }
   ],
   "source": [
    "final_df.head()"
   ]
  },
  {
   "cell_type": "code",
   "execution_count": 37,
   "metadata": {},
   "outputs": [],
   "source": [
    "final_df.to_csv('performance_test/merged_query_execution_times.csv', index=False)"
   ]
  }
 ],
 "metadata": {
  "kernelspec": {
   "display_name": "tpc_ds_kernel",
   "language": "python",
   "name": "tpc_ds_kernel"
  },
  "language_info": {
   "codemirror_mode": {
    "name": "ipython",
    "version": 3
   },
   "file_extension": ".py",
   "mimetype": "text/x-python",
   "name": "python",
   "nbconvert_exporter": "python",
   "pygments_lexer": "ipython3",
   "version": "3.12.5"
  }
 },
 "nbformat": 4,
 "nbformat_minor": 4
}
