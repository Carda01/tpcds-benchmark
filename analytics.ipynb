{
 "cells": [
  {
   "cell_type": "code",
   "execution_count": 2,
   "id": "cd341b0b",
   "metadata": {},
   "outputs": [],
   "source": [
    "import os, re\n",
    "import pandas as pd\n",
    "from sqlglot import parse_one, exp\n",
    "from utils import get_files_absolute_path_from_dir, connect_postgres, sql_to_dataframe"
   ]
  },
  {
   "cell_type": "code",
   "execution_count": 3,
   "id": "afb01e62",
   "metadata": {},
   "outputs": [
    {
     "name": "stdout",
     "output_type": "stream",
     "text": [
      "/home/alfio/Desktop/DataWarehouse/TPC_DS/tpcds-benchmark/all_queries/updated_queries\n",
      "Total files: 99\n",
      "First few files...\n",
      "['/home/alfio/Desktop/DataWarehouse/TPC_DS/tpcds-benchmark/all_queries/updated_queries/query-08.sql', '/home/alfio/Desktop/DataWarehouse/TPC_DS/tpcds-benchmark/all_queries/updated_queries/query-79.sql', '/home/alfio/Desktop/DataWarehouse/TPC_DS/tpcds-benchmark/all_queries/updated_queries/query-06.sql', '/home/alfio/Desktop/DataWarehouse/TPC_DS/tpcds-benchmark/all_queries/updated_queries/query-81.sql', '/home/alfio/Desktop/DataWarehouse/TPC_DS/tpcds-benchmark/all_queries/updated_queries/query-30.sql']\n"
     ]
    }
   ],
   "source": [
    "path = os.path.join(os.getcwd(), 'all_queries', 'updated_queries')\n",
    "files = os.listdir(path)\n",
    "print(path)\n",
    "queries = get_files_absolute_path_from_dir(path)"
   ]
  },
  {
   "cell_type": "code",
   "execution_count": 177,
   "id": "d2dbf426",
   "metadata": {
    "scrolled": true
   },
   "outputs": [
    {
     "name": "stdout",
     "output_type": "stream",
     "text": [
      "1327\n"
     ]
    }
   ],
   "source": [
    "conditions = []\n",
    "def extract_conditions(expression):\n",
    "    if isinstance(expression, sqlglot.exp.And) or isinstance(expression, sqlglot.exp.Or):\n",
    "        extract_conditions(expression.args['this'])\n",
    "        extract_conditions(expression.args['expression'])\n",
    "    elif isinstance(expression, sqlglot.exp.Exists) or isinstance(expression, sqlglot.exp.Subquery):\n",
    "        return\n",
    "    elif isinstance(expression, sqlglot.exp.Paren):\n",
    "            extract_conditions(expression.this)\n",
    "    else:\n",
    "        conditions.append(expression.sql())\n",
    "\n",
    "def remove_subquery(condition):\n",
    "    idx = condition.find('SELECT')\n",
    "    if idx != -1:\n",
    "        return condition[:idx]\n",
    "    return condition\n",
    "\n",
    "\n",
    "def remove_case_when(condition):\n",
    "    if \"CASE\" in condition:\n",
    "        return 0\n",
    "    return 1\n",
    "\n",
    "\n",
    "for query in queries:\n",
    "    with open(query, \"r\") as f:\n",
    "        all_lines = []\n",
    "        for line in f:\n",
    "            cleaned_line = line.strip()\n",
    "            if cleaned_line != '':\n",
    "                all_lines.append(cleaned_line)\n",
    "                \n",
    "        one_line_query = ' '.join(all_lines)\n",
    "        parsed = sqlglot.parse_one(one_line_query, dialect=\"postgres\")\n",
    "        wheres = parsed.find_all(exp.Where)\n",
    "        for where in wheres:\n",
    "            extract_conditions(where.this)\n",
    "    \n",
    "\n",
    "\n",
    "conditions = list(map(remove_subquery, filter(remove_case_when ,conditions)))\n",
    "    \n",
    "print(len(conditions))"
   ]
  },
  {
   "cell_type": "code",
   "execution_count": 158,
   "id": "ce020c0c",
   "metadata": {},
   "outputs": [
    {
     "name": "stdout",
     "output_type": "stream",
     "text": [
      "PostgreSQL server information\n",
      "{'user': 'postgres', 'channel_binding': 'prefer', 'dbname': 'tpcds', 'host': 'localhost', 'port': '25433', 'options': '', 'sslmode': 'prefer', 'sslcompression': '0', 'sslcertmode': 'allow', 'sslsni': '1', 'ssl_min_protocol_version': 'TLSv1.2', 'gssencmode': 'prefer', 'krbsrvname': 'postgres', 'gssdelegation': '0', 'target_session_attrs': 'any', 'load_balance_hosts': 'disable'} \n",
      "\n",
      "You are connected to -  ('PostgreSQL 17.0 (Debian 17.0-1.pgdg120+1) on x86_64-pc-linux-gnu, compiled by gcc (Debian 12.2.0-14) 12.2.0, 64-bit',) \n",
      "\n"
     ]
    }
   ],
   "source": [
    "cur = connect_postgres(\"tpcds\")"
   ]
  },
  {
   "cell_type": "code",
   "execution_count": 209,
   "id": "dc1f947a",
   "metadata": {},
   "outputs": [],
   "source": [
    "df = sql_to_dataframe(cur, \"SELECT attname from PG_STATS WHERE schemaname = 'public';\", [\"column\"])"
   ]
  },
  {
   "cell_type": "code",
   "execution_count": 210,
   "id": "a64308dd",
   "metadata": {},
   "outputs": [
    {
     "name": "stdout",
     "output_type": "stream",
     "text": [
      "{'ca_address_sk': {'e': 46, 'c': 0}, 'ca_address_id': {'e': 0, 'c': 0}, 'ca_street_number': {'e': 0, 'c': 0}, 't_second': {'e': 0, 'c': 0}, 't_am_pm': {'e': 0, 'c': 0}, 'ca_street_name': {'e': 0, 'c': 0}, 'ca_street_type': {'e': 0, 'c': 0}, 'ca_suite_number': {'e': 0, 'c': 0}, 'ca_city': {'e': 1, 'c': 2}, 'ca_county': {'e': 7, 'c': 0}, 'ca_state': {'e': 18, 'c': 0}, 't_shift': {'e': 0, 'c': 0}, 't_sub_shift': {'e': 0, 'c': 0}, 'wp_autogen_flag': {'e': 0, 'c': 0}, 'ca_zip': {'e': 5, 'c': 1}, 'ca_country': {'e': 9, 'c': 1}, 'ca_gmt_offset': {'e': 12, 'c': 0}, 'ca_location_type': {'e': 0, 'c': 0}, 'cd_demo_sk': {'e': 21, 'c': 0}, 'cd_gender': {'e': 4, 'c': 0}, 'cd_marital_status': {'e': 18, 'c': 1}, 'cd_education_status': {'e': 18, 'c': 0}, 'cd_purchase_estimate': {'e': 0, 'c': 0}, 'cd_credit_rating': {'e': 0, 'c': 0}, 'cd_dep_count': {'e': 0, 'c': 0}, 'cd_dep_employed_count': {'e': 0, 'c': 0}, 'cd_dep_college_count': {'e': 0, 'c': 0}, 't_time_sk': {'e': 14, 'c': 0}, 't_time_id': {'e': 0, 'c': 0}, 't_time': {'e': 14, 'c': 2}, 't_hour': {'e': 9, 'c': 2}, 't_minute': {'e': 0, 'c': 9}, 't_meal_time': {'e': 2, 'c': 0}, 'i_item_sk': {'e': 76, 'c': 0}, 'i_item_id': {'e': 7, 'c': 0}, 'i_rec_start_date': {'e': 0, 'c': 0}, 'i_rec_end_date': {'e': 0, 'c': 0}, 'i_item_desc': {'e': 0, 'c': 0}, 'i_current_price': {'e': 0, 'c': 10}, 'i_wholesale_cost': {'e': 0, 'c': 0}, 'i_brand_id': {'e': 2, 'c': 0}, 'wp_customer_sk': {'e': 0, 'c': 0}, 'i_brand': {'e': 10, 'c': 0}, 'i_class_id': {'e': 2, 'c': 0}, 'i_class': {'e': 9, 'c': 0}, 'i_category_id': {'e': 2, 'c': 0}, 'i_category': {'e': 36, 'c': 0}, 'i_manufact_id': {'e': 9, 'c': 1}, 'c_customer_id': {'e': 0, 'c': 0}, 'c_current_cdemo_sk': {'e': 7, 'c': 0}, 'wp_url': {'e': 0, 'c': 0}, 'i_manufact': {'e': 11, 'c': 1}, 'i_size': {'e': 16, 'c': 0}, 'i_formulation': {'e': 0, 'c': 0}, 'i_color': {'e': 21, 'c': 0}, 'i_units': {'e': 16, 'c': 0}, 'i_container': {'e': 0, 'c': 0}, 'i_manager_id': {'e': 5, 'c': 0}, 'i_product_name': {'e': 0, 'c': 0}, 'c_customer_sk': {'e': 44, 'c': 0}, 'wp_type': {'e': 0, 'c': 0}, 'c_current_hdemo_sk': {'e': 3, 'c': 0}, 'c_current_addr_sk': {'e': 20, 'c': 0}, 'c_first_shipto_date_sk': {'e': 1, 'c': 0}, 'c_first_sales_date_sk': {'e': 1, 'c': 0}, 'c_salutation': {'e': 0, 'c': 0}, 'c_first_name': {'e': 0, 'c': 0}, 'c_last_name': {'e': 0, 'c': 0}, 'c_preferred_cust_flag': {'e': 1, 'c': 0}, 'c_birth_day': {'e': 0, 'c': 0}, 'c_birth_month': {'e': 1, 'c': 0}, 'wp_char_count': {'e': 0, 'c': 2}, 'c_birth_year': {'e': 0, 'c': 0}, 'c_birth_country': {'e': 0, 'c': 1}, 'c_login': {'e': 0, 'c': 0}, 'c_email_address': {'e': 0, 'c': 0}, 'c_last_review_date': {'e': 0, 'c': 0}, 'sr_returned_date_sk': {'e': 7, 'c': 0}, 'sr_return_time_sk': {'e': 0, 'c': 0}, 'sr_item_sk': {'e': 10, 'c': 0}, 'sr_customer_sk': {'e': 7, 'c': 0}, 'sr_cdemo_sk': {'e': 1, 'c': 0}, 'sr_hdemo_sk': {'e': 0, 'c': 0}, 'sr_addr_sk': {'e': 0, 'c': 0}, 'sr_store_sk': {'e': 1, 'c': 0}, 'sr_reason_sk': {'e': 1, 'c': 0}, 'sr_ticket_number': {'e': 7, 'c': 0}, 'sr_return_quantity': {'e': 0, 'c': 0}, 'sr_return_amt': {'e': 0, 'c': 1}, 'sr_return_tax': {'e': 0, 'c': 0}, 'wp_link_count': {'e': 0, 'c': 0}, 'wp_image_count': {'e': 0, 'c': 0}, 'sr_return_amt_inc_tax': {'e': 0, 'c': 0}, 'sr_fee': {'e': 0, 'c': 0}, 'sr_return_ship_cost': {'e': 0, 'c': 0}, 'sr_refunded_cash': {'e': 0, 'c': 0}, 'wp_web_page_id': {'e': 0, 'c': 0}, 'wp_rec_start_date': {'e': 0, 'c': 0}, 'wp_rec_end_date': {'e': 0, 'c': 0}, 'wp_creation_date_sk': {'e': 0, 'c': 0}, 'wp_max_ad_count': {'e': 0, 'c': 0}, 'sr_reversed_charge': {'e': 0, 'c': 0}, 'sr_store_credit': {'e': 0, 'c': 0}, 'sr_net_loss': {'e': 0, 'c': 0}, 'hd_demo_sk': {'e': 23, 'c': 0}, 'hd_income_band_sk': {'e': 3, 'c': 0}, 'hd_buy_potential': {'e': 6, 'c': 0}, 'hd_dep_count': {'e': 33, 'c': 0}, 'hd_vehicle_count': {'e': 2, 'c': 27}, 'wp_web_page_sk': {'e': 5, 'c': 0}, 'wp_access_date_sk': {'e': 0, 'c': 0}, 'p_promo_sk': {'e': 7, 'c': 0}, 'p_promo_id': {'e': 0, 'c': 0}, 'p_start_date_sk': {'e': 0, 'c': 0}, 'p_end_date_sk': {'e': 0, 'c': 0}, 'p_item_sk': {'e': 0, 'c': 0}, 'p_cost': {'e': 0, 'c': 0}, 'p_response_target': {'e': 0, 'c': 0}, 'p_promo_name': {'e': 0, 'c': 0}, 'p_channel_dmail': {'e': 1, 'c': 0}, 'p_channel_email': {'e': 3, 'c': 0}, 'p_channel_catalog': {'e': 0, 'c': 0}, 'p_channel_tv': {'e': 4, 'c': 0}, 'p_channel_radio': {'e': 0, 'c': 0}, 'p_channel_press': {'e': 0, 'c': 0}, 'p_channel_event': {'e': 2, 'c': 0}, 'p_channel_demo': {'e': 0, 'c': 0}, 'p_channel_details': {'e': 0, 'c': 0}, 'p_purpose': {'e': 0, 'c': 0}, 'p_discount_active': {'e': 0, 'c': 0}, 'cp_catalog_page_sk': {'e': 2, 'c': 0}, 'cp_catalog_page_id': {'e': 0, 'c': 0}, 'cp_start_date_sk': {'e': 0, 'c': 0}, 'cp_end_date_sk': {'e': 0, 'c': 0}, 'cp_department': {'e': 0, 'c': 0}, 'cp_catalog_number': {'e': 0, 'c': 0}, 'cp_catalog_page_number': {'e': 0, 'c': 0}, 'cp_description': {'e': 0, 'c': 0}, 'cp_type': {'e': 0, 'c': 0}, 'wr_returned_date_sk': {'e': 3, 'c': 0}, 'wr_returned_time_sk': {'e': 0, 'c': 0}, 'wr_item_sk': {'e': 2, 'c': 0}, 'wr_refunded_customer_sk': {'e': 0, 'c': 0}, 'wr_refunded_cdemo_sk': {'e': 1, 'c': 0}, 'wr_refunded_hdemo_sk': {'e': 0, 'c': 0}, 'wr_refunded_addr_sk': {'e': 1, 'c': 0}, 'wr_returning_customer_sk': {'e': 0, 'c': 0}, 'wr_returning_cdemo_sk': {'e': 1, 'c': 0}, 'wr_returning_hdemo_sk': {'e': 0, 'c': 0}, 'wr_returning_addr_sk': {'e': 1, 'c': 0}, 'wr_web_page_sk': {'e': 1, 'c': 0}, 'wr_reason_sk': {'e': 1, 'c': 0}, 'wr_order_number': {'e': 4, 'c': 0}, 'wr_return_quantity': {'e': 0, 'c': 0}, 'wr_return_amt': {'e': 0, 'c': 1}, 'wr_return_tax': {'e': 0, 'c': 0}, 'wr_return_amt_inc_tax': {'e': 0, 'c': 0}, 'ws_bill_hdemo_sk': {'e': 0, 'c': 0}, 'wr_fee': {'e': 0, 'c': 0}, 'wr_return_ship_cost': {'e': 0, 'c': 0}, 'wr_refunded_cash': {'e': 0, 'c': 0}, 'wr_reversed_charge': {'e': 0, 'c': 0}, 'wr_account_credit': {'e': 0, 'c': 0}, 'wr_net_loss': {'e': 0, 'c': 0}, 'ws_sold_date_sk': {'e': 30, 'c': 0}, 'ws_sold_time_sk': {'e': 3, 'c': 0}, 'ws_ship_date_sk': {'e': 3, 'c': 0}, 'ws_item_sk': {'e': 17, 'c': 0}, 'ws_bill_customer_sk': {'e': 10, 'c': 0}, 'ws_bill_cdemo_sk': {'e': 0, 'c': 0}, 'd_date_id': {'e': 0, 'c': 0}, 'ws_bill_addr_sk': {'e': 4, 'c': 0}, 'ws_ship_customer_sk': {'e': 0, 'c': 0}, 'ws_ship_cdemo_sk': {'e': 0, 'c': 0}, 'ws_ship_hdemo_sk': {'e': 3, 'c': 0}, 'ws_ship_addr_sk': {'e': 2, 'c': 0}, 'ws_web_page_sk': {'e': 4, 'c': 0}, 'ws_web_site_sk': {'e': 4, 'c': 0}, 'ws_ship_mode_sk': {'e': 2, 'c': 0}, 'ws_warehouse_sk': {'e': 2, 'c': 2}, 'ws_promo_sk': {'e': 1, 'c': 0}, 'ws_order_number': {'e': 7, 'c': 0}, 'ws_quantity': {'e': 0, 'c': 1}, 'ws_wholesale_cost': {'e': 0, 'c': 0}, 'ws_list_price': {'e': 0, 'c': 0}, 'ws_sales_price': {'e': 0, 'c': 3}, 'ws_ext_discount_amt': {'e': 0, 'c': 1}, 'ws_ext_sales_price': {'e': 0, 'c': 0}, 'ws_ext_wholesale_cost': {'e': 0, 'c': 0}, 'ws_ext_list_price': {'e': 0, 'c': 0}, 'ws_ext_tax': {'e': 0, 'c': 0}, 'ws_coupon_amt': {'e': 0, 'c': 0}, 'ws_ext_ship_cost': {'e': 0, 'c': 0}, 'd_date': {'e': 167, 'c': 27}, 'ws_net_paid': {'e': 0, 'c': 1}, 'ws_net_paid_inc_tax': {'e': 0, 'c': 0}, 'ws_net_paid_inc_ship': {'e': 0, 'c': 0}, 'ws_net_paid_inc_ship_tax': {'e': 0, 'c': 0}, 'ws_net_profit': {'e': 0, 'c': 4}, 'd_date_sk': {'e': 155, 'c': 0}, 'd_month_seq': {'e': 3, 'c': 22}, 'd_week_seq': {'e': 13, 'c': 0}, 'd_quarter_seq': {'e': 0, 'c': 0}, 'd_year': {'e': 95, 'c': 6}, 'd_dow': {'e': 2, 'c': 0}, 'd_moy': {'e': 41, 'c': 9}, 'd_dom': {'e': 0, 'c': 4}, 'd_qoy': {'e': 9, 'c': 3}, 'd_fy_year': {'e': 0, 'c': 0}, 'd_fy_quarter_seq': {'e': 0, 'c': 0}, 'd_fy_week_seq': {'e': 0, 'c': 0}, 'd_day_name': {'e': 0, 'c': 0}, 'd_quarter_name': {'e': 3, 'c': 0}, 'd_holiday': {'e': 0, 'c': 0}, 'd_weekend': {'e': 0, 'c': 0}, 'd_following_holiday': {'e': 0, 'c': 0}, 'd_first_dom': {'e': 0, 'c': 0}, 'd_last_dom': {'e': 0, 'c': 0}, 'd_same_day_ly': {'e': 0, 'c': 0}, 'd_same_day_lq': {'e': 0, 'c': 0}, 'd_current_day': {'e': 0, 'c': 0}, 'd_current_week': {'e': 0, 'c': 0}, 'd_current_month': {'e': 0, 'c': 0}, 'd_current_quarter': {'e': 0, 'c': 0}, 'd_current_year': {'e': 0, 'c': 0}, 'cr_returned_date_sk': {'e': 4, 'c': 0}, 'cr_returned_time_sk': {'e': 0, 'c': 0}, 'cr_item_sk': {'e': 2, 'c': 0}, 'cr_refunded_customer_sk': {'e': 0, 'c': 0}, 'cr_refunded_cdemo_sk': {'e': 0, 'c': 0}, 'cr_refunded_hdemo_sk': {'e': 0, 'c': 0}, 'cr_refunded_addr_sk': {'e': 0, 'c': 0}, 'cr_returning_customer_sk': {'e': 1, 'c': 0}, 'cr_returning_cdemo_sk': {'e': 0, 'c': 0}, 'cr_returning_hdemo_sk': {'e': 0, 'c': 0}, 'cr_returning_addr_sk': {'e': 1, 'c': 0}, 'cr_call_center_sk': {'e': 1, 'c': 0}, 'cr_catalog_page_sk': {'e': 0, 'c': 0}, 'cr_ship_mode_sk': {'e': 0, 'c': 0}, 'cr_warehouse_sk': {'e': 0, 'c': 0}, 'cr_reason_sk': {'e': 0, 'c': 0}, 'cr_order_number': {'e': 3, 'c': 0}, 'cr_return_quantity': {'e': 0, 'c': 0}, 'cr_return_amount': {'e': 0, 'c': 1}, 'cr_return_tax': {'e': 0, 'c': 0}, 'cr_return_amt_inc_tax': {'e': 0, 'c': 0}, 'cr_fee': {'e': 0, 'c': 0}, 'cr_return_ship_cost': {'e': 0, 'c': 0}, 'cr_refunded_cash': {'e': 0, 'c': 0}, 'cr_reversed_charge': {'e': 0, 'c': 0}, 'cr_store_credit': {'e': 0, 'c': 0}, 'cr_net_loss': {'e': 0, 'c': 0}, 'inv_date_sk': {'e': 5, 'c': 0}, 'inv_item_sk': {'e': 5, 'c': 0}, 'inv_warehouse_sk': {'e': 2, 'c': 0}, 'inv_quantity_on_hand': {'e': 0, 'c': 3}, 'cs_ship_hdemo_sk': {'e': 0, 'c': 0}, 'cs_sold_date_sk': {'e': 32, 'c': 0}, 'cs_sold_time_sk': {'e': 1, 'c': 0}, 'cs_ship_date_sk': {'e': 2, 'c': 0}, 'cs_bill_customer_sk': {'e': 10, 'c': 0}, 'cs_bill_cdemo_sk': {'e': 2, 'c': 0}, 'cs_bill_hdemo_sk': {'e': 0, 'c': 0}, 'cs_bill_addr_sk': {'e': 3, 'c': 0}, 'cs_ship_customer_sk': {'e': 3, 'c': 0}, 'cs_ship_cdemo_sk': {'e': 0, 'c': 0}, 'cs_ship_addr_sk': {'e': 1, 'c': 0}, 'cs_call_center_sk': {'e': 3, 'c': 0}, 'cs_catalog_page_sk': {'e': 1, 'c': 0}, 'cs_ship_mode_sk': {'e': 2, 'c': 0}, 'cs_warehouse_sk': {'e': 3, 'c': 1}, 'cs_item_sk': {'e': 23, 'c': 0}, 'cs_promo_sk': {'e': 2, 'c': 0}, 'cs_order_number': {'e': 3, 'c': 0}, 'cs_quantity': {'e': 0, 'c': 2}, 'cs_wholesale_cost': {'e': 0, 'c': 0}, 'cs_list_price': {'e': 0, 'c': 0}, 'cs_sales_price': {'e': 0, 'c': 1}, 'cs_ext_discount_amt': {'e': 0, 'c': 1}, 'cs_ext_sales_price': {'e': 0, 'c': 0}, 'cs_ext_wholesale_cost': {'e': 0, 'c': 0}, 'cs_ext_list_price': {'e': 0, 'c': 0}, 'cs_ext_tax': {'e': 0, 'c': 0}, 'cs_coupon_amt': {'e': 0, 'c': 0}, 'cs_ext_ship_cost': {'e': 0, 'c': 0}, 'cs_net_paid': {'e': 0, 'c': 1}, 'cs_net_paid_inc_tax': {'e': 0, 'c': 0}, 'cs_net_paid_inc_ship': {'e': 0, 'c': 0}, 'cs_net_paid_inc_ship_tax': {'e': 0, 'c': 0}, 'cs_net_profit': {'e': 0, 'c': 1}, 'ss_sold_date_sk': {'e': 62, 'c': 0}, 'ss_sold_time_sk': {'e': 9, 'c': 0}, 'ss_item_sk': {'e': 42, 'c': 0}, 'ss_customer_sk': {'e': 27, 'c': 0}, 'ss_cdemo_sk': {'e': 9, 'c': 0}, 'ss_hdemo_sk': {'e': 20, 'c': 0}, 'ss_addr_sk': {'e': 13, 'c': 0}, 'ss_store_sk': {'e': 46, 'c': 0}, 'ss_promo_sk': {'e': 4, 'c': 0}, 'ss_ticket_number': {'e': 6, 'c': 0}, 'ss_quantity': {'e': 0, 'c': 22}, 'ss_wholesale_cost': {'e': 0, 'c': 6}, 'ss_list_price': {'e': 0, 'c': 6}, 'ss_sales_price': {'e': 0, 'c': 6}, 'ss_ext_discount_amt': {'e': 0, 'c': 0}, 'ss_ext_sales_price': {'e': 0, 'c': 0}, 'ss_ext_wholesale_cost': {'e': 0, 'c': 0}, 'ss_ext_list_price': {'e': 0, 'c': 0}, 'ss_ext_tax': {'e': 0, 'c': 0}, 'ss_coupon_amt': {'e': 0, 'c': 6}, 'ss_net_paid': {'e': 0, 'c': 1}, 'ss_net_paid_inc_tax': {'e': 0, 'c': 0}, 'ss_net_profit': {'e': 0, 'c': 7}}\n"
     ]
    }
   ],
   "source": [
    "no_operations = {}\n",
    "\n",
    "for column in list(df['column']):\n",
    "    no_operations[column] = {'e' : 0, 'c' : 0}\n",
    "    for condition in conditions:\n",
    "        if column in condition:\n",
    "            if re.match(r\".*(<|>|\\bbetween\\b).*\", condition, flags=re.IGNORECASE):\n",
    "                no_operations[column]['c'] += 1\n",
    "            elif re.match(r\".*(=|\\bIN\\b|\\bIS\\b|\\bLIKE\\b).*\", condition, flags=re.IGNORECASE):\n",
    "                no_operations[column]['e'] += 1\n",
    "            \n",
    "\n",
    "print(no_operations)"
   ]
  },
  {
   "cell_type": "code",
   "execution_count": 211,
   "id": "edd494c8",
   "metadata": {},
   "outputs": [
    {
     "data": {
      "text/html": [
       "<div>\n",
       "<style scoped>\n",
       "    .dataframe tbody tr th:only-of-type {\n",
       "        vertical-align: middle;\n",
       "    }\n",
       "\n",
       "    .dataframe tbody tr th {\n",
       "        vertical-align: top;\n",
       "    }\n",
       "\n",
       "    .dataframe thead th {\n",
       "        text-align: right;\n",
       "    }\n",
       "</style>\n",
       "<table border=\"1\" class=\"dataframe\">\n",
       "  <thead>\n",
       "    <tr style=\"text-align: right;\">\n",
       "      <th></th>\n",
       "      <th>attname</th>\n",
       "      <th>equalities</th>\n",
       "      <th>comparisons</th>\n",
       "    </tr>\n",
       "  </thead>\n",
       "  <tbody>\n",
       "    <tr>\n",
       "      <th>0</th>\n",
       "      <td>ca_address_sk</td>\n",
       "      <td>46</td>\n",
       "      <td>0</td>\n",
       "    </tr>\n",
       "    <tr>\n",
       "      <th>1</th>\n",
       "      <td>ca_address_id</td>\n",
       "      <td>0</td>\n",
       "      <td>0</td>\n",
       "    </tr>\n",
       "    <tr>\n",
       "      <th>2</th>\n",
       "      <td>ca_street_number</td>\n",
       "      <td>0</td>\n",
       "      <td>0</td>\n",
       "    </tr>\n",
       "    <tr>\n",
       "      <th>3</th>\n",
       "      <td>t_second</td>\n",
       "      <td>0</td>\n",
       "      <td>0</td>\n",
       "    </tr>\n",
       "    <tr>\n",
       "      <th>4</th>\n",
       "      <td>t_am_pm</td>\n",
       "      <td>0</td>\n",
       "      <td>0</td>\n",
       "    </tr>\n",
       "    <tr>\n",
       "      <th>...</th>\n",
       "      <td>...</td>\n",
       "      <td>...</td>\n",
       "      <td>...</td>\n",
       "    </tr>\n",
       "    <tr>\n",
       "      <th>308</th>\n",
       "      <td>ss_ext_tax</td>\n",
       "      <td>0</td>\n",
       "      <td>0</td>\n",
       "    </tr>\n",
       "    <tr>\n",
       "      <th>309</th>\n",
       "      <td>ss_coupon_amt</td>\n",
       "      <td>0</td>\n",
       "      <td>6</td>\n",
       "    </tr>\n",
       "    <tr>\n",
       "      <th>310</th>\n",
       "      <td>ss_net_paid</td>\n",
       "      <td>0</td>\n",
       "      <td>1</td>\n",
       "    </tr>\n",
       "    <tr>\n",
       "      <th>311</th>\n",
       "      <td>ss_net_paid_inc_tax</td>\n",
       "      <td>0</td>\n",
       "      <td>0</td>\n",
       "    </tr>\n",
       "    <tr>\n",
       "      <th>312</th>\n",
       "      <td>ss_net_profit</td>\n",
       "      <td>0</td>\n",
       "      <td>7</td>\n",
       "    </tr>\n",
       "  </tbody>\n",
       "</table>\n",
       "<p>313 rows × 3 columns</p>\n",
       "</div>"
      ],
      "text/plain": [
       "                 attname  equalities  comparisons\n",
       "0          ca_address_sk          46            0\n",
       "1          ca_address_id           0            0\n",
       "2       ca_street_number           0            0\n",
       "3               t_second           0            0\n",
       "4                t_am_pm           0            0\n",
       "..                   ...         ...          ...\n",
       "308           ss_ext_tax           0            0\n",
       "309        ss_coupon_amt           0            6\n",
       "310          ss_net_paid           0            1\n",
       "311  ss_net_paid_inc_tax           0            0\n",
       "312        ss_net_profit           0            7\n",
       "\n",
       "[313 rows x 3 columns]"
      ]
     },
     "execution_count": 211,
     "metadata": {},
     "output_type": "execute_result"
    }
   ],
   "source": [
    "analytics = pd.DataFrame([\n",
    "    {'attname': key, 'equalities': value['e'], 'comparisons': value['c']}\n",
    "    for key, value in no_operations.items()\n",
    "])\n",
    "analytics"
   ]
  }
 ],
 "metadata": {
  "kernelspec": {
   "display_name": "Python 3 (ipykernel)",
   "language": "python",
   "name": "python3"
  },
  "language_info": {
   "codemirror_mode": {
    "name": "ipython",
    "version": 3
   },
   "file_extension": ".py",
   "mimetype": "text/x-python",
   "name": "python",
   "nbconvert_exporter": "python",
   "pygments_lexer": "ipython3",
   "version": "3.10.7"
  }
 },
 "nbformat": 4,
 "nbformat_minor": 5
}
