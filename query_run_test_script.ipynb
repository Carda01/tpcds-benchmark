{
 "cells": [
  {
   "cell_type": "markdown",
   "id": "af8d32d4-9c88-4bb2-9e08-2e3adb1a920b",
   "metadata": {},
   "source": [
    "# TPCDS: Query Run Test Script"
   ]
  },
  {
   "cell_type": "code",
   "execution_count": 2,
   "id": "b008de62-98a8-4de9-a4cd-003e80e6f7e8",
   "metadata": {},
   "outputs": [],
   "source": [
    "import sys, os\n",
    "from datetime import datetime\n",
    "from utils import connect_postgres, get_files_absolute_path_from_dir\n",
    "from IPython.display import clear_output"
   ]
  },
  {
   "cell_type": "code",
   "execution_count": 5,
   "id": "1e736ce3-98e4-4d55-b26e-feae085ecd89",
   "metadata": {},
   "outputs": [
    {
     "name": "stdout",
     "output_type": "stream",
     "text": [
      "PostgreSQL server information\n",
      "{'user': 'postgres', 'channel_binding': 'prefer', 'dbname': 'tpcds', 'host': 'localhost', 'port': '25433', 'options': '', 'sslmode': 'prefer', 'sslcompression': '0', 'sslcertmode': 'allow', 'sslsni': '1', 'ssl_min_protocol_version': 'TLSv1.2', 'gssencmode': 'prefer', 'krbsrvname': 'postgres', 'gssdelegation': '0', 'target_session_attrs': 'any', 'load_balance_hosts': 'disable'} \n",
      "\n",
      "You are connected to -  ('PostgreSQL 17.0 (Debian 17.0-1.pgdg120+1) on x86_64-pc-linux-gnu, compiled by gcc (Debian 12.2.0-14) 12.2.0, 64-bit',) \n",
      "\n"
     ]
    }
   ],
   "source": [
    "db_name = \"tpcds\"\n",
    "cur = connect_postgres(db_name)"
   ]
  },
  {
   "cell_type": "code",
   "execution_count": 4,
   "id": "3e7a51e5-6f5c-4cdf-ac2e-4b47a8e5b54d",
   "metadata": {},
   "outputs": [
    {
     "name": "stdout",
     "output_type": "stream",
     "text": [
      "/home/alfio/Desktop/DataWarehouse/TPC_DS/tpcds-benchmark/all_queries/initial_queries\n"
     ]
    }
   ],
   "source": [
    "# get dir path\n",
    "\n",
    "path = os.path.join(os.getcwd(), 'all_queries', 'initial_queries')\n",
    "files = os.listdir(path)\n",
    "print(path)"
   ]
  },
  {
   "cell_type": "code",
   "execution_count": 5,
   "id": "d93031fe-af21-4094-9037-048a3e7ff5cd",
   "metadata": {},
   "outputs": [
    {
     "name": "stdout",
     "output_type": "stream",
     "text": [
      "Total files: 101\n",
      "First few files...\n",
      "['/home/alfio/Desktop/DataWarehouse/TPC_DS/tpcds-benchmark/all_queries/initial_queries/query-08.sql', '/home/alfio/Desktop/DataWarehouse/TPC_DS/tpcds-benchmark/all_queries/initial_queries/query-79.sql', '/home/alfio/Desktop/DataWarehouse/TPC_DS/tpcds-benchmark/all_queries/initial_queries/query-06.sql', '/home/alfio/Desktop/DataWarehouse/TPC_DS/tpcds-benchmark/all_queries/initial_queries/query-81.sql', '/home/alfio/Desktop/DataWarehouse/TPC_DS/tpcds-benchmark/all_queries/initial_queries/query-30.sql']\n"
     ]
    }
   ],
   "source": [
    "# get full abosolute path files in directory\n",
    "files_abs_path = get_files_absolute_path_from_dir(path)"
   ]
  },
  {
   "cell_type": "code",
   "execution_count": 9,
   "id": "1d0d6faa-d108-4fc1-a574-cc3a720ba598",
   "metadata": {},
   "outputs": [
    {
     "name": "stdout",
     "output_type": "stream",
     "text": [
      "Run Test Start = 18:36:55\n"
     ]
    }
   ],
   "source": [
    "now = datetime.now()\n",
    "current_time = now.strftime(\"%H:%M:%S\")\n",
    "print(\"Run Test Start =\", current_time)"
   ]
  },
  {
   "cell_type": "code",
   "execution_count": null,
   "id": "b6c15c1d-5c7f-40d4-a83f-cb24f95b7687",
   "metadata": {},
   "outputs": [
    {
     "name": "stdout",
     "output_type": "stream",
     "text": [
      "/home/alfio/Desktop/DataWarehouse/TPC_DS/tpcds-benchmark/all_queries/initial_queries/query-32.sql\n",
      "Error, Message: syntax error at or near \"days\"\n",
      "LINE 11:         (cast('1999-02-22' as date) + 90 days)\n",
      "                                                  ^\n",
      "\n"
     ]
    }
   ],
   "source": [
    "# perform run test on each query\n",
    "# save results in text file\n",
    "\n",
    "script_num = 1\n",
    "script_errors = 0\n",
    "\n",
    "for sql_script in files_abs_path:\n",
    "    textfile = open(\"query_run_test_result.txt\", \"a\")\n",
    "    textfile2 = open(\"query_run_test_query_errors.txt\", \"a\")\n",
    "    clear_output(wait = True)\n",
    "    try:\n",
    "        cur.execute(\n",
    "            open(sql_script, \"r\").read()\n",
    "        )\n",
    "    except Exception as e:\n",
    "        script_errors += 1\n",
    "        outcome = f\"Error, Message: {e}\"\n",
    "        print(sql_script)\n",
    "        print(outcome)\n",
    "        textfile.write(sql_script + \"\\n\")\n",
    "        textfile.write(outcome + \"\\n\\n\")\n",
    "        # for tracking errors alone\n",
    "        textfile2.write(sql_script + \"\\n\")\n",
    "        textfile2.write(outcome + \"\\n\\n\")\n",
    "    else:\n",
    "        outcome = f\"Success, Message: {cur.statusmessage}\"\n",
    "        print(sql_script)\n",
    "        print(outcome)\n",
    "        textfile.write(sql_script + \"\\n\")\n",
    "        textfile.write(outcome + \"\\n\\n\")\n",
    "        \n",
    "    script_num += 1\n",
    "    textfile.close()\n",
    "    textfile2.close()"
   ]
  },
  {
   "cell_type": "code",
   "execution_count": 9,
   "id": "c457b42e-adf1-4621-9cee-5fa507ab681d",
   "metadata": {},
   "outputs": [
    {
     "name": "stdout",
     "output_type": "stream",
     "text": [
      "Run Test End = 00:55:01\n"
     ]
    }
   ],
   "source": [
    "now = datetime.now()\n",
    "current_time = now.strftime(\"%H:%M:%S\")\n",
    "print(\"Run Test End =\", current_time)"
   ]
  },
  {
   "cell_type": "code",
   "execution_count": 10,
   "id": "ba54f295-b4df-4eae-87ce-5cb19774b69d",
   "metadata": {},
   "outputs": [],
   "source": [
    "# close connection to db\n",
    "\n",
    "cur.close()"
   ]
  },
  {
   "cell_type": "code",
   "execution_count": 11,
   "id": "a5674ad0-1f7d-4af0-80b0-6e5e4c6e35f0",
   "metadata": {},
   "outputs": [
    {
     "name": "stdout",
     "output_type": "stream",
     "text": [
      "We have a total of 23 queries with error\n"
     ]
    }
   ],
   "source": [
    "# check total amount of query errors\n",
    "\n",
    "print(f\"We have a total of {script_errors} queries with error\")"
   ]
  },
  {
   "cell_type": "markdown",
   "id": "23cf3748-16e4-4621-8e52-174008329d3b",
   "metadata": {},
   "source": [
    "#### End of script."
   ]
  }
 ],
 "metadata": {
  "kernelspec": {
   "display_name": "Python 3 (ipykernel)",
   "language": "python",
   "name": "python3"
  },
  "language_info": {
   "codemirror_mode": {
    "name": "ipython",
    "version": 3
   },
   "file_extension": ".py",
   "mimetype": "text/x-python",
   "name": "python",
   "nbconvert_exporter": "python",
   "pygments_lexer": "ipython3",
   "version": "3.10.7"
  }
 },
 "nbformat": 4,
 "nbformat_minor": 5
}
