{
 "cells": [
  {
   "cell_type": "markdown",
   "id": "204373cc-5a15-4231-ae8f-8f95401164aa",
   "metadata": {},
   "source": [
    "# TPCDS: Preprocessing, DB Setup and Data Load Script"
   ]
  },
  {
   "cell_type": "code",
   "execution_count": 3,
   "id": "06b7870c-b590-469b-998c-15e65b729bc8",
   "metadata": {},
   "outputs": [],
   "source": [
    "import os, re\n",
    "from utils import connect_postgres, get_full_absolute_path, exclude_non_csv_files\n",
    "from dotenv import load_dotenv"
   ]
  },
  {
   "cell_type": "code",
   "execution_count": 4,
   "id": "e924ce7a-d5ed-47bf-8251-aee4008ebed2",
   "metadata": {},
   "outputs": [
    {
     "name": "stdout",
     "output_type": "stream",
     "text": [
      "PostgreSQL server information\n",
      "{'user': 'postgres', 'channel_binding': 'prefer', 'dbname': 'postgres', 'host': 'localhost', 'port': '25433', 'options': '', 'sslmode': 'prefer', 'sslcompression': '0', 'sslcertmode': 'allow', 'sslsni': '1', 'ssl_min_protocol_version': 'TLSv1.2', 'gssencmode': 'prefer', 'krbsrvname': 'postgres', 'gssdelegation': '0', 'target_session_attrs': 'any', 'load_balance_hosts': 'disable'} \n",
      "\n",
      "You are connected to -  ('PostgreSQL 17.0 (Debian 17.0-1.pgdg120+1) on x86_64-pc-linux-gnu, compiled by gcc (Debian 12.2.0-14) 12.2.0, 64-bit',) \n",
      "\n"
     ]
    }
   ],
   "source": [
    "cur = connect_postgres(\"postgres\")"
   ]
  },
  {
   "cell_type": "code",
   "execution_count": 3,
   "id": "e82adf59-d8df-4f70-bc44-3d0d1398daca",
   "metadata": {},
   "outputs": [
    {
     "name": "stdout",
     "output_type": "stream",
     "text": [
      "SQL Status Output:\n",
      " DROP DATABASE\n"
     ]
    }
   ],
   "source": [
    "# drop tpcds db\n",
    "\n",
    "db_name = \"tpcds\"\n",
    "\n",
    "cur.execute(\n",
    "    f\"DROP DATABASE IF EXISTS {db_name} WITH (FORCE);\"\n",
    ")\n",
    "print(\"SQL Status Output:\\n\", cur.statusmessage)"
   ]
  },
  {
   "cell_type": "code",
   "execution_count": 4,
   "id": "025c2e12-59cd-4380-b22b-285d1edd7bc5",
   "metadata": {},
   "outputs": [
    {
     "name": "stdout",
     "output_type": "stream",
     "text": [
      "SQL Status Output:\n",
      " ALTER DATABASE\n"
     ]
    }
   ],
   "source": [
    "# change win1252 encoding temp db to normal before drop\n",
    "try:\n",
    "    cur.execute(\n",
    "        \"ALTER DATABASE win1252_temp is_template false;\"\n",
    "    )\n",
    "except Exception as e:\n",
    "    print(e)\n",
    "else:\n",
    "    print(\"SQL Status Output:\\n\", cur.statusmessage)"
   ]
  },
  {
   "cell_type": "code",
   "execution_count": 5,
   "id": "9bce6df0-62d3-4257-a534-2cdb8dc2a75e",
   "metadata": {},
   "outputs": [
    {
     "name": "stdout",
     "output_type": "stream",
     "text": [
      "SQL Status Output:\n",
      " DROP DATABASE\n"
     ]
    }
   ],
   "source": [
    "# drop win1252 encoding temp db (after set to normal db)\n",
    "cur.execute(\n",
    "    \"DROP DATABASE IF EXISTS win1252_temp WITH (FORCE);\"\n",
    ")\n",
    "print(\"SQL Status Output:\\n\", cur.statusmessage)"
   ]
  },
  {
   "cell_type": "code",
   "execution_count": 6,
   "id": "51426edd-2e89-432e-8adc-2c96a958b667",
   "metadata": {},
   "outputs": [
    {
     "name": "stdout",
     "output_type": "stream",
     "text": [
      "SQL Status Output:\n",
      " CREATE DATABASE\n"
     ]
    }
   ],
   "source": [
    "# create win1252 encoding temp db\n",
    "cur.execute(\n",
    "    \"\"\"\n",
    "    \n",
    "    CREATE DATABASE win1252_temp\n",
    "        WITH\n",
    "        OWNER = postgres\n",
    "        TEMPLATE = template0\n",
    "        ENCODING = 'WIN1252'\n",
    "        CONNECTION LIMIT = -1\n",
    "        IS_TEMPLATE = True;\n",
    "\n",
    "    \"\"\"\n",
    ")\n",
    "print(\"SQL Status Output:\\n\", cur.statusmessage)"
   ]
  },
  {
   "cell_type": "code",
   "execution_count": 7,
   "id": "87d07b64-0624-4b39-b361-78ab1e318be0",
   "metadata": {},
   "outputs": [
    {
     "name": "stdout",
     "output_type": "stream",
     "text": [
      "SQL Status Output:\n",
      " CREATE DATABASE\n"
     ]
    }
   ],
   "source": [
    "# create tpcds db\n",
    "cur.execute(\n",
    "    f\"\"\"\n",
    "\n",
    "    CREATE DATABASE {db_name}\n",
    "        WITH\n",
    "        OWNER = postgres\n",
    "        TEMPLATE = win1252_temp\n",
    "        ENCODING = 'WIN1252'\n",
    "        CONNECTION LIMIT = -1\n",
    "        IS_TEMPLATE = False;\n",
    "        \n",
    "    \"\"\"\n",
    ")\n",
    "print(\"SQL Status Output:\\n\", cur.statusmessage)"
   ]
  },
  {
   "cell_type": "code",
   "execution_count": 8,
   "id": "9758b305-b016-4cf7-80a4-ede8cf6b3db0",
   "metadata": {},
   "outputs": [
    {
     "name": "stdout",
     "output_type": "stream",
     "text": [
      "PostgreSQL server information\n",
      "{'user': 'postgres', 'channel_binding': 'prefer', 'dbname': 'tpcds', 'host': 'localhost', 'port': '25433', 'options': '', 'sslmode': 'prefer', 'sslcompression': '0', 'sslcertmode': 'allow', 'sslsni': '1', 'ssl_min_protocol_version': 'TLSv1.2', 'gssencmode': 'prefer', 'krbsrvname': 'postgres', 'gssdelegation': '0', 'target_session_attrs': 'any', 'load_balance_hosts': 'disable'} \n",
      "\n",
      "You are connected to -  ('PostgreSQL 17.0 (Debian 17.0-1.pgdg120+1) on x86_64-pc-linux-gnu, compiled by gcc (Debian 12.2.0-14) 12.2.0, 64-bit',) \n",
      "\n"
     ]
    }
   ],
   "source": [
    "# connect to tpcds db\n",
    "cur = connect_postgres(db_name)"
   ]
  },
  {
   "cell_type": "code",
   "execution_count": 9,
   "id": "16bf6841-d1a7-41f0-82b5-b58a8ab793f5",
   "metadata": {},
   "outputs": [
    {
     "name": "stdout",
     "output_type": "stream",
     "text": [
      "SQL Status Output:\n",
      " CREATE TABLE\n",
      "SQL Status Output:\n",
      " CREATE TABLE\n"
     ]
    }
   ],
   "source": [
    "# create tables for db\n",
    "cur.execute(open(\"DSGen-software-code-3.2.0rc1/tools/tpcds.sql\", \"r\").read())\n",
    "print(\"SQL Status Output:\\n\", cur.statusmessage)\n",
    "cur.execute(open(\"DSGen-software-code-3.2.0rc1/tools/tpcds_source.sql\", \"r\").read())\n",
    "print(\"SQL Status Output:\\n\", cur.statusmessage)"
   ]
  },
  {
   "cell_type": "code",
   "execution_count": 5,
   "id": "77146980-b68a-4d14-9e03-2c9b2029d767",
   "metadata": {},
   "outputs": [
    {
     "name": "stdout",
     "output_type": "stream",
     "text": [
      "/home/alfio/Desktop/DataWarehouse/TPC_DS/tpcds-benchmark/data/tmp_1\n"
     ]
    }
   ],
   "source": [
    "# get dir path\n",
    "\n",
    "path = os.path.join(os.getcwd(), 'data', 'tmp_1')\n",
    "files = os.listdir(path)\n",
    "print(path)"
   ]
  },
  {
   "cell_type": "code",
   "execution_count": 6,
   "id": "c101c6c8-ec5e-40d3-a94b-678f86ef9076",
   "metadata": {},
   "outputs": [
    {
     "name": "stdout",
     "output_type": "stream",
     "text": [
      "Total files: 31\n",
      "First few files...\n",
      "['/home/alfio/Desktop/DataWarehouse/TPC_DS/tpcds-benchmark/data/tmp_1/customer_demographics_2_4.csv', '/home/alfio/Desktop/DataWarehouse/TPC_DS/tpcds-benchmark/data/tmp_1/customer_demographics_4_4.csv', '/home/alfio/Desktop/DataWarehouse/TPC_DS/tpcds-benchmark/data/tmp_1/dbgen_version_1_4.csv', '/home/alfio/Desktop/DataWarehouse/TPC_DS/tpcds-benchmark/data/tmp_1/store_1_4.csv', '/home/alfio/Desktop/DataWarehouse/TPC_DS/tpcds-benchmark/data/tmp_1/ship_mode_1_4.csv']\n"
     ]
    }
   ],
   "source": [
    "files_abs_path = get_full_absolute_path(path)\n",
    "files = exclude_non_csv_files(files)\n",
    "files_abs_path = exclude_non_csv_files(files_abs_path)"
   ]
  },
  {
   "cell_type": "code",
   "execution_count": 8,
   "id": "c50b4819-73ce-48cb-8e60-2647adb46727",
   "metadata": {},
   "outputs": [
    {
     "name": "stdout",
     "output_type": "stream",
     "text": [
      "3\n",
      "\n",
      "Iteration 1 done!\n",
      "0 file(s) updated for extra column exclusion.\n"
     ]
    }
   ],
   "source": [
    "# Assume files_abs_path is defined and contains the list of file paths\n",
    "file_count = 0\n",
    "\n",
    "for iteration in range(0, 1):\n",
    "    for file in files_abs_path:\n",
    "        if 'dbgen_version' in file:\n",
    "            with open(file, 'r', encoding='latin-1') as f:\n",
    "                lines = f.readlines()\n",
    "            new_lines = []\n",
    "            for line in lines:\n",
    "                # Remove the last '^' and any spaces after it\n",
    "                if(line.count('^') == 4):\n",
    "                    line = re.sub(r'\\^(?!.*\\^)\\s*', '', line)\n",
    "                    new_lines.append(line)\n",
    "                    with open(file, 'w', encoding='latin-1') as f:\n",
    "                        f.writelines(new_lines)\n",
    "                    file_count += 1\n",
    "    print(f'\\nIteration {iteration + 1} done!')\n",
    "    print(f'{file_count} file(s) updated for extra column exclusion.')\n",
    "    file_count = 0"
   ]
  },
  {
   "cell_type": "code",
   "execution_count": 14,
   "id": "9fadd633-a4b6-4132-ba36-edc99affaa64",
   "metadata": {},
   "outputs": [],
   "source": [
    "# generate sql commands for loading data from csv to postgres db\n",
    "# considers that csv files were generated in parallel stream\n",
    "\n",
    "sql_commands_file = open('data_load_script.sql','w')\n",
    "\n",
    "for file in files:\n",
    "    underscore_index = [underscore_ind.start() for underscore_ind in re.finditer('_', file)]\n",
    "    file_name = file[:underscore_index[-2]]\n",
    "    file_path = os.path.join(path, file)\n",
    "    sql_command = \"COPY public.\"+file_name+\" FROM '\"+file_path+\"' delimiter '^' CSV;\\n\"\n",
    "    sql_commands_file.write(sql_command)\n",
    "\n",
    "sql_commands_file.close()"
   ]
  },
  {
   "cell_type": "code",
   "execution_count": 15,
   "id": "8d91df03-0169-4cc2-a179-5796470ff765",
   "metadata": {},
   "outputs": [
    {
     "name": "stdout",
     "output_type": "stream",
     "text": [
      "COPY 480200\n",
      "COPY 480200\n",
      "COPY 1\n",
      "COPY 12\n",
      "COPY 20\n",
      "COPY 144067\n",
      "COPY 50000\n",
      "COPY 2936250\n",
      "COPY 2936250\n",
      "COPY 71763\n",
      "COPY 1441548\n",
      "COPY 480200\n",
      "COPY 86400\n",
      "COPY 5\n",
      "COPY 18000\n",
      "COPY 100000\n",
      "COPY 60\n",
      "COPY 719384\n",
      "COPY 35\n",
      "COPY 2936250\n",
      "COPY 300\n",
      "COPY 2936250\n",
      "COPY 20\n",
      "COPY 11718\n",
      "COPY 480200\n",
      "COPY 7200\n",
      "COPY 287514\n",
      "COPY 6\n",
      "COPY 30\n",
      "COPY 73049\n",
      "COPY 2880404\n"
     ]
    },
    {
     "data": {
      "text/plain": [
       "CompletedProcess(args=['psql', '-d', 'tpcds', '-f', 'data_load_script.sql'], returncode=0)"
      ]
     },
     "execution_count": 15,
     "metadata": {},
     "output_type": "execute_result"
    }
   ],
   "source": [
    "#insert\n",
    "\n",
    "import subprocess\n",
    "import os\n",
    "\n",
    "db_name = \"tpcds\"\n",
    "\n",
    "# psql command\n",
    "command = [\n",
    "    \"psql\",\n",
    "    \"-d\", db_name,      # dbname\n",
    "    \"-f\", \"data_load_script.sql\"  # SQL file to execute\n",
    "]\n",
    "\n",
    "# copy the env\n",
    "load_dotenv()\n",
    "env = os.environ.copy()\n",
    "\n",
    "# run command as subprocess\n",
    "subprocess.run(command, env=env)"
   ]
  },
  {
   "cell_type": "code",
   "execution_count": 114,
   "id": "f47515db-2649-48fa-8109-f31c246aca64",
   "metadata": {},
   "outputs": [
    {
     "name": "stdout",
     "output_type": "stream",
     "text": [
      "SQL Status Output:\n",
      " ALTER TABLE\n"
     ]
    }
   ],
   "source": [
    "# add constraints to db\n",
    "\n",
    "cur.execute(open(\"tpcds_ri.sql\", \"r\").read())\n",
    "print(\"SQL Status Output:\\n\", cur.statusmessage)\n"
   ]
  },
  {
   "cell_type": "code",
   "execution_count": 115,
   "id": "f0d52bc3-9907-4fed-81b0-fb0cc196cafe",
   "metadata": {},
   "outputs": [],
   "source": [
    "# close connection to db\n",
    "\n",
    "cur.close()"
   ]
  },
  {
   "cell_type": "markdown",
   "id": "e1e9cc6c-0819-4a8d-bf9a-5b26b7611b0c",
   "metadata": {},
   "source": [
    "#### End of script."
   ]
  }
 ],
 "metadata": {
  "kernelspec": {
   "display_name": "Python 3 (ipykernel)",
   "language": "python",
   "name": "python3"
  },
  "language_info": {
   "codemirror_mode": {
    "name": "ipython",
    "version": 3
   },
   "file_extension": ".py",
   "mimetype": "text/x-python",
   "name": "python",
   "nbconvert_exporter": "python",
   "pygments_lexer": "ipython3",
   "version": "3.10.7"
  }
 },
 "nbformat": 4,
 "nbformat_minor": 5
}
