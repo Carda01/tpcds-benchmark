{
 "cells": [
  {
   "cell_type": "markdown",
   "id": "b094ab3f",
   "metadata": {},
   "source": []
  },
  {
   "cell_type": "markdown",
   "id": "204373cc-5a15-4231-ae8f-8f95401164aa",
   "metadata": {},
   "source": [
    "# TPCDS: Preprocessing, DB Setup and Data Load Script"
   ]
  },
  {
   "cell_type": "code",
   "execution_count": 96,
   "id": "06b7870c-b590-469b-998c-15e65b729bc8",
   "metadata": {},
   "outputs": [
    {
     "data": {
      "text/plain": [
       "True"
      ]
     },
     "execution_count": 96,
     "metadata": {},
     "output_type": "execute_result"
    }
   ],
   "source": [
    "import sys, os, re\n",
    "import psycopg2\n",
    "import numpy as np\n",
    "import pandas as pd\n",
    "from dotenv import load_dotenv\n",
    "from psycopg2 import Error\n",
    "from psycopg2.extensions import ISOLATION_LEVEL_AUTOCOMMIT\n",
    "load_dotenv()\n"
   ]
  },
  {
   "cell_type": "code",
   "execution_count": 97,
   "id": "78ab3e3c-62bf-4d52-bc95-71c5b8f3efe0",
   "metadata": {},
   "outputs": [],
   "source": [
    "# set up connection variables\n",
    "db_host = os.getenv(\"PGHOST\")\n",
    "db_port = os.getenv(\"PGPORT\")\n",
    "db_user = os.getenv(\"PGUSER\")\n",
    "db_pass = os.getenv(\"PGPASSWORD\")\n",
    "\n",
    "# function to connect with postgres\n",
    "def connect_postgres(db_name = 'postgres'):\n",
    "    try:\n",
    "        # Connect to an existing database\n",
    "        connection = psycopg2.connect(database = db_name)\n",
    "        # Set auto-commit\n",
    "        connection.set_isolation_level(ISOLATION_LEVEL_AUTOCOMMIT);\n",
    "        # Create a cursor to perform database operations\n",
    "        cur = connection.cursor()\n",
    "        # Print PostgreSQL details\n",
    "        print(\"PostgreSQL server information\")\n",
    "        print(connection.get_dsn_parameters(), \"\\n\")\n",
    "        # Executing a SQL query\n",
    "        cur.execute(\"SELECT version();\")\n",
    "        # Fetch result\n",
    "        record = cur.fetchone()\n",
    "        print(\"You are connected to - \", record, \"\\n\")\n",
    "\n",
    "    except (Exception, Error) as error:\n",
    "        print(\"Error while connecting to PostgreSQL\", error)\n",
    "    else:\n",
    "        return cur"
   ]
  },
  {
   "cell_type": "code",
   "execution_count": 98,
   "id": "e924ce7a-d5ed-47bf-8251-aee4008ebed2",
   "metadata": {},
   "outputs": [
    {
     "name": "stdout",
     "output_type": "stream",
     "text": [
      "PostgreSQL server information\n",
      "{'user': 'postgres', 'channel_binding': 'prefer', 'dbname': 'postgres', 'host': 'localhost', 'port': '25433', 'options': '', 'sslmode': 'prefer', 'sslcompression': '0', 'sslcertmode': 'allow', 'sslsni': '1', 'ssl_min_protocol_version': 'TLSv1.2', 'gssencmode': 'prefer', 'krbsrvname': 'postgres', 'gssdelegation': '0', 'target_session_attrs': 'any', 'load_balance_hosts': 'disable'} \n",
      "\n",
      "You are connected to -  ('PostgreSQL 17.0 (Debian 17.0-1.pgdg120+1) on x86_64-pc-linux-gnu, compiled by gcc (Debian 12.2.0-14) 12.2.0, 64-bit',) \n",
      "\n"
     ]
    }
   ],
   "source": [
    "# connect to postgres\n",
    "\n",
    "cur = connect_postgres()"
   ]
  },
  {
   "cell_type": "code",
   "execution_count": 99,
   "id": "e82adf59-d8df-4f70-bc44-3d0d1398daca",
   "metadata": {},
   "outputs": [
    {
     "name": "stdout",
     "output_type": "stream",
     "text": [
      "SQL Status Output:\n",
      " DROP DATABASE\n"
     ]
    }
   ],
   "source": [
    "# drop tpcds db\n",
    "\n",
    "db_name = \"tpcds\"\n",
    "\n",
    "cur.execute(\n",
    "    f\"DROP DATABASE IF EXISTS {db_name} WITH (FORCE);\"\n",
    ")\n",
    "print(\"SQL Status Output:\\n\", cur.statusmessage)"
   ]
  },
  {
   "cell_type": "code",
   "execution_count": 100,
   "id": "025c2e12-59cd-4380-b22b-285d1edd7bc5",
   "metadata": {},
   "outputs": [
    {
     "name": "stdout",
     "output_type": "stream",
     "text": [
      "SQL Status Output:\n",
      " ALTER DATABASE\n"
     ]
    }
   ],
   "source": [
    "# change win1252 encoding temp db to normal before drop\n",
    "try:\n",
    "    cur.execute(\n",
    "        \"ALTER DATABASE win1252_temp is_template false;\"\n",
    "    )\n",
    "except Exception as e:\n",
    "    print(e)\n",
    "else:\n",
    "    print(\"SQL Status Output:\\n\", cur.statusmessage)"
   ]
  },
  {
   "cell_type": "code",
   "execution_count": 101,
   "id": "9bce6df0-62d3-4257-a534-2cdb8dc2a75e",
   "metadata": {},
   "outputs": [
    {
     "name": "stdout",
     "output_type": "stream",
     "text": [
      "SQL Status Output:\n",
      " DROP DATABASE\n"
     ]
    }
   ],
   "source": [
    "# drop win1252 encoding temp db (after set to normal db)\n",
    "cur.execute(\n",
    "    \"DROP DATABASE IF EXISTS win1252_temp WITH (FORCE);\"\n",
    ")\n",
    "print(\"SQL Status Output:\\n\", cur.statusmessage)"
   ]
  },
  {
   "cell_type": "code",
   "execution_count": 102,
   "id": "51426edd-2e89-432e-8adc-2c96a958b667",
   "metadata": {},
   "outputs": [
    {
     "name": "stdout",
     "output_type": "stream",
     "text": [
      "SQL Status Output:\n",
      " CREATE DATABASE\n"
     ]
    }
   ],
   "source": [
    "# create win1252 encoding temp db\n",
    "cur.execute(\n",
    "    \"\"\"\n",
    "    \n",
    "    CREATE DATABASE win1252_temp\n",
    "        WITH\n",
    "        OWNER = postgres\n",
    "        TEMPLATE = template0\n",
    "        ENCODING = 'WIN1252'\n",
    "        CONNECTION LIMIT = -1\n",
    "        IS_TEMPLATE = True;\n",
    "\n",
    "    \"\"\"\n",
    ")\n",
    "print(\"SQL Status Output:\\n\", cur.statusmessage)"
   ]
  },
  {
   "cell_type": "code",
   "execution_count": 103,
   "id": "87d07b64-0624-4b39-b361-78ab1e318be0",
   "metadata": {},
   "outputs": [
    {
     "name": "stdout",
     "output_type": "stream",
     "text": [
      "SQL Status Output:\n",
      " CREATE DATABASE\n"
     ]
    }
   ],
   "source": [
    "# create tpcds db\n",
    "cur.execute(\n",
    "    f\"\"\"\n",
    "\n",
    "    CREATE DATABASE {db_name}\n",
    "        WITH\n",
    "        OWNER = postgres\n",
    "        TEMPLATE = win1252_temp\n",
    "        ENCODING = 'WIN1252'\n",
    "        CONNECTION LIMIT = -1\n",
    "        IS_TEMPLATE = False;\n",
    "        \n",
    "    \"\"\"\n",
    ")\n",
    "print(\"SQL Status Output:\\n\", cur.statusmessage)"
   ]
  },
  {
   "cell_type": "code",
   "execution_count": 104,
   "id": "9758b305-b016-4cf7-80a4-ede8cf6b3db0",
   "metadata": {},
   "outputs": [
    {
     "name": "stdout",
     "output_type": "stream",
     "text": [
      "PostgreSQL server information\n",
      "{'user': 'postgres', 'channel_binding': 'prefer', 'dbname': 'tpcds', 'host': 'localhost', 'port': '25433', 'options': '', 'sslmode': 'prefer', 'sslcompression': '0', 'sslcertmode': 'allow', 'sslsni': '1', 'ssl_min_protocol_version': 'TLSv1.2', 'gssencmode': 'prefer', 'krbsrvname': 'postgres', 'gssdelegation': '0', 'target_session_attrs': 'any', 'load_balance_hosts': 'disable'} \n",
      "\n",
      "You are connected to -  ('PostgreSQL 17.0 (Debian 17.0-1.pgdg120+1) on x86_64-pc-linux-gnu, compiled by gcc (Debian 12.2.0-14) 12.2.0, 64-bit',) \n",
      "\n"
     ]
    }
   ],
   "source": [
    "# connect to tpcds db\n",
    "cur = connect_postgres(db_name)"
   ]
  },
  {
   "cell_type": "code",
   "execution_count": 105,
   "id": "16bf6841-d1a7-41f0-82b5-b58a8ab793f5",
   "metadata": {},
   "outputs": [
    {
     "name": "stdout",
     "output_type": "stream",
     "text": [
      "SQL Status Output:\n",
      " CREATE TABLE\n",
      "SQL Status Output:\n",
      " CREATE TABLE\n"
     ]
    }
   ],
   "source": [
    "# create tables for db\n",
    "cur.execute(open(\"DSGen-software-code-3.2.0rc1/tools/tpcds.sql\", \"r\").read())\n",
    "print(\"SQL Status Output:\\n\", cur.statusmessage)\n",
    "cur.execute(open(\"DSGen-software-code-3.2.0rc1/tools/tpcds_source.sql\", \"r\").read())\n",
    "print(\"SQL Status Output:\\n\", cur.statusmessage)"
   ]
  },
  {
   "cell_type": "code",
   "execution_count": 106,
   "id": "77146980-b68a-4d14-9e03-2c9b2029d767",
   "metadata": {},
   "outputs": [
    {
     "name": "stdout",
     "output_type": "stream",
     "text": [
      "/home/alfio/Desktop/DataWarehouse/TPC_DS/tpcds-benchmark/data/tmp_1\n"
     ]
    }
   ],
   "source": [
    "# get dir path\n",
    "\n",
    "path = os.path.join(os.getcwd(), 'data', 'tmp_1')\n",
    "files = os.listdir(path)\n",
    "print(path)"
   ]
  },
  {
   "cell_type": "code",
   "execution_count": 107,
   "id": "273d8a93-d9d5-4820-8734-5cabf3d9e1c6",
   "metadata": {},
   "outputs": [],
   "source": [
    "# function to get full absolute path of csv files containing data\n",
    "\n",
    "def get_absolute_path(d):\n",
    "    return [os.path.join(d, f) for f in os.listdir(d)]"
   ]
  },
  {
   "cell_type": "code",
   "execution_count": 108,
   "id": "c101c6c8-ec5e-40d3-a94b-678f86ef9076",
   "metadata": {},
   "outputs": [
    {
     "name": "stdout",
     "output_type": "stream",
     "text": [
      "Total files: 31\n",
      "First few files...\n"
     ]
    },
    {
     "data": {
      "text/plain": [
       "['/home/alfio/Desktop/DataWarehouse/TPC_DS/tpcds-benchmark/data/tmp_1/customer_demographics_2_4.csv',\n",
       " '/home/alfio/Desktop/DataWarehouse/TPC_DS/tpcds-benchmark/data/tmp_1/customer_demographics_4_4.csv',\n",
       " '/home/alfio/Desktop/DataWarehouse/TPC_DS/tpcds-benchmark/data/tmp_1/dbgen_version_1_4.csv',\n",
       " '/home/alfio/Desktop/DataWarehouse/TPC_DS/tpcds-benchmark/data/tmp_1/store_1_4.csv',\n",
       " '/home/alfio/Desktop/DataWarehouse/TPC_DS/tpcds-benchmark/data/tmp_1/ship_mode_1_4.csv']"
      ]
     },
     "execution_count": 108,
     "metadata": {},
     "output_type": "execute_result"
    }
   ],
   "source": [
    "# get full abosolute path of csv files containing data\n",
    "\n",
    "files_abs_path = [p.replace('\\\\', '/') for p in get_absolute_path(path)]\n",
    "print(\"Total files:\", len(files_abs_path))\n",
    "print(\"First few files...\")\n",
    "files_abs_path[:5]"
   ]
  },
  {
   "cell_type": "code",
   "execution_count": 109,
   "id": "a2ecab6e",
   "metadata": {},
   "outputs": [],
   "source": [
    "def exclude_non_csv_files(file_list):\n",
    "    return list(filter(lambda x: x.endswith('.csv'), file_list))\n",
    "\n",
    "files = exclude_non_csv_files(files)\n",
    "files_abs_path = exclude_non_csv_files(files_abs_path)"
   ]
  },
  {
   "cell_type": "code",
   "execution_count": 110,
   "id": "c50b4819-73ce-48cb-8e60-2647adb46727",
   "metadata": {},
   "outputs": [
    {
     "name": "stdout",
     "output_type": "stream",
     "text": [
      "\n",
      "Iteration 1 done!\n",
      "1 file(s) updated for extra column exclusion.\n"
     ]
    }
   ],
   "source": [
    "import re\n",
    "\n",
    "# Assume files_abs_path is defined and contains the list of file paths\n",
    "file_count = 0\n",
    "\n",
    "for iteration in range(0, 1):\n",
    "    for file in files_abs_path:\n",
    "        if 'dbgen_version' in file:\n",
    "            with open(file, 'r', encoding='latin-1') as f:\n",
    "                lines = f.readlines()\n",
    "            new_lines = []\n",
    "            for line in lines:\n",
    "                # Remove the last '^' and any spaces after it\n",
    "                line = re.sub(r'\\^(?!.*\\^)\\s*', '', line)\n",
    "                new_lines.append(line)\n",
    "            with open(file, 'w', encoding='latin-1') as f:\n",
    "                f.writelines(new_lines)\n",
    "            file_count += 1\n",
    "    print(f'\\nIteration {iteration + 1} done!')\n",
    "    print(f'{file_count} file(s) updated for extra column exclusion.')\n",
    "    file_count = 0"
   ]
  },
  {
   "cell_type": "code",
   "execution_count": 111,
   "id": "9fadd633-a4b6-4132-ba36-edc99affaa64",
   "metadata": {},
   "outputs": [],
   "source": [
    "# generate sql commands for loading data from csv to postgres db\n",
    "# considers that csv files were generated in parallel stream\n",
    "\n",
    "sql_commands_file = open('data_load_script.sql','w')\n",
    "\n",
    "for file in files:\n",
    "    underscore_index = [underscore_ind.start() for underscore_ind in re.finditer('_', file)]\n",
    "    file_name = file[:underscore_index[-2]]\n",
    "    file_path = os.path.join(path, file)\n",
    "    sql_command = \"COPY public.\"+file_name+\" FROM '\"+file_path+\"' delimiter '^' CSV;\\n\"\n",
    "    sql_commands_file.write(sql_command)\n",
    "\n",
    "sql_commands_file.close()"
   ]
  },
  {
   "cell_type": "code",
   "execution_count": 81,
   "id": "9374e1e8",
   "metadata": {},
   "outputs": [
    {
     "data": {
      "text/plain": [
       "environ{'CLUTTER_IM_MODULE': 'ibus',\n",
       "        'COLORTERM': 'truecolor',\n",
       "        'CONDA_EXE': '/home/alfio/anaconda3/bin/conda',\n",
       "        'CONDA_PYTHON_EXE': '/home/alfio/anaconda3/bin/python',\n",
       "        'CONDA_SHLVL': '0',\n",
       "        'DBUS_SESSION_BUS_ADDRESS': 'unix:path=/run/user/1000/bus',\n",
       "        'DEBUGINFOD_URLS': 'https://debuginfod.ubuntu.com ',\n",
       "        'DEFAULTS_PATH': '/usr/share/gconf/awesome.default.path',\n",
       "        'DESKTOP_SESSION': 'awesome',\n",
       "        'DISPLAY': ':1',\n",
       "        'GDMSESSION': 'awesome',\n",
       "        'GNOME_TERMINAL_SCREEN': '/org/gnome/Terminal/screen/8e760709_52bd_405a_bfdb_eca49d85649c',\n",
       "        'GNOME_TERMINAL_SERVICE': ':1.52',\n",
       "        'GPG_AGENT_INFO': '/run/user/1000/gnupg/S.gpg-agent:0:1',\n",
       "        'GTK_IM_MODULE': 'ibus',\n",
       "        'GTK_MODULES': 'gail:atk-bridge',\n",
       "        'HOME': '/home/alfio',\n",
       "        'JAVA_HOME': '/usr/lib/jvm/java-11-openjdk-amd64',\n",
       "        'LANG': 'en_US.UTF-8',\n",
       "        'LC_ADDRESS': 'it_IT.UTF-8',\n",
       "        'LC_IDENTIFICATION': 'it_IT.UTF-8',\n",
       "        'LC_MEASUREMENT': 'it_IT.UTF-8',\n",
       "        'LC_MONETARY': 'it_IT.UTF-8',\n",
       "        'LC_NAME': 'it_IT.UTF-8',\n",
       "        'LC_NUMERIC': 'it_IT.UTF-8',\n",
       "        'LC_PAPER': 'it_IT.UTF-8',\n",
       "        'LC_TELEPHONE': 'it_IT.UTF-8',\n",
       "        'LC_TIME': 'it_IT.UTF-8',\n",
       "        'LESS': '-R',\n",
       "        'LIBVIRT_DEFAULT_URI': 'qemu:///system',\n",
       "        'LOGNAME': 'alfio',\n",
       "        'LSCOLORS': 'Gxfxcxdxbxegedabagacad',\n",
       "        'LS_COLORS': 'rs=0:di=01;34:ln=01;36:mh=00:pi=40;33:so=01;35:do=01;35:bd=40;33;01:cd=40;33;01:or=40;31;01:mi=00:su=37;41:sg=30;43:ca=30;41:tw=30;42:ow=34;42:st=37;44:ex=01;32:*.tar=01;31:*.tgz=01;31:*.arc=01;31:*.arj=01;31:*.taz=01;31:*.lha=01;31:*.lz4=01;31:*.lzh=01;31:*.lzma=01;31:*.tlz=01;31:*.txz=01;31:*.tzo=01;31:*.t7z=01;31:*.zip=01;31:*.z=01;31:*.dz=01;31:*.gz=01;31:*.lrz=01;31:*.lz=01;31:*.lzo=01;31:*.xz=01;31:*.zst=01;31:*.tzst=01;31:*.bz2=01;31:*.bz=01;31:*.tbz=01;31:*.tbz2=01;31:*.tz=01;31:*.deb=01;31:*.rpm=01;31:*.jar=01;31:*.war=01;31:*.ear=01;31:*.sar=01;31:*.rar=01;31:*.alz=01;31:*.ace=01;31:*.zoo=01;31:*.cpio=01;31:*.7z=01;31:*.rz=01;31:*.cab=01;31:*.wim=01;31:*.swm=01;31:*.dwm=01;31:*.esd=01;31:*.jpg=01;35:*.jpeg=01;35:*.mjpg=01;35:*.mjpeg=01;35:*.gif=01;35:*.bmp=01;35:*.pbm=01;35:*.pgm=01;35:*.ppm=01;35:*.tga=01;35:*.xbm=01;35:*.xpm=01;35:*.tif=01;35:*.tiff=01;35:*.png=01;35:*.svg=01;35:*.svgz=01;35:*.mng=01;35:*.pcx=01;35:*.mov=01;35:*.mpg=01;35:*.mpeg=01;35:*.m2v=01;35:*.mkv=01;35:*.webm=01;35:*.webp=01;35:*.ogm=01;35:*.mp4=01;35:*.m4v=01;35:*.mp4v=01;35:*.vob=01;35:*.qt=01;35:*.nuv=01;35:*.wmv=01;35:*.asf=01;35:*.rm=01;35:*.rmvb=01;35:*.flc=01;35:*.avi=01;35:*.fli=01;35:*.flv=01;35:*.gl=01;35:*.dl=01;35:*.xcf=01;35:*.xwd=01;35:*.yuv=01;35:*.cgm=01;35:*.emf=01;35:*.ogv=01;35:*.ogx=01;35:*.aac=00;36:*.au=00;36:*.flac=00;36:*.m4a=00;36:*.mid=00;36:*.midi=00;36:*.mka=00;36:*.mp3=00;36:*.mpc=00;36:*.ogg=00;36:*.ra=00;36:*.wav=00;36:*.oga=00;36:*.opus=00;36:*.spx=00;36:*.xspf=00;36:',\n",
       "        'MANDATORY_PATH': '/usr/share/gconf/awesome.mandatory.path',\n",
       "        'OLDPWD': '/home/alfio',\n",
       "        'P9K_TTY': 'old',\n",
       "        'PAGER': 'cat',\n",
       "        'PATH': '/home/alfio/anaconda3/condabin:/home/alfio/.cargo/bin:/home/alfio/.local/bin:/usr/lib/jvm/java-11-openjdk-amd64/bin:/usr/local/sbin:/usr/local/bin:/usr/sbin:/usr/bin:/sbin:/bin:/usr/games:/usr/local/games:/snap/bin:/home/alfio/.local/share/JetBrains/Toolbox/scripts:/home/alfio/.spicetify:/home/alfio/scripts:/home/alfio/minecraft-launcher:/home/alfio/idea-IU-241.17011.79:/home/alfio/Downloads/DataGrip-2024.2.2/bin:/home/alfio/.spicetify:/home/alfio/scripts:/home/alfio/minecraft-launcher:/home/alfio/idea-IU-241.17011.79:/home/alfio/Downloads/DataGrip-2024.2.2/bin',\n",
       "        'PWD': '/home/alfio',\n",
       "        'QT_ACCESSIBILITY': '1',\n",
       "        'QT_IM_MODULE': 'ibus',\n",
       "        'SHELL': '/usr/bin/zsh',\n",
       "        'SHLVL': '2',\n",
       "        'SYSTEMD_EXEC_PID': '4720',\n",
       "        'TERM': 'xterm-color',\n",
       "        'TERM_PROGRAM': 'tmux',\n",
       "        'TERM_PROGRAM_VERSION': '3.3a',\n",
       "        'TMUX': '/tmp/tmux-1000/default,141645,0',\n",
       "        'TMUX_PANE': '%3',\n",
       "        'TMUX_PLUGIN_MANAGER_PATH': '/home/alfio/.config/tmux/plugins/',\n",
       "        'USER': 'alfio',\n",
       "        'USERNAME': 'alfio',\n",
       "        'VTE_VERSION': '7000',\n",
       "        'WINDOWPATH': '2',\n",
       "        'XAUTHORITY': '/run/user/1000/gdm/Xauthority',\n",
       "        'XDG_CONFIG_DIRS': '/etc/xdg/xdg-awesome:/etc/xdg',\n",
       "        'XDG_DATA_DIRS': '/usr/share/awesome:/usr/share/gnome:/home/alfio/.local/share/flatpak/exports/share:/var/lib/flatpak/exports/share:/usr/local/share/:/usr/share/:/var/lib/snapd/desktop',\n",
       "        'XDG_RUNTIME_DIR': '/run/user/1000',\n",
       "        'XDG_SEAT': 'seat0',\n",
       "        'XDG_SESSION_CLASS': 'user',\n",
       "        'XDG_SESSION_DESKTOP': 'awesome',\n",
       "        'XDG_SESSION_ID': '2',\n",
       "        'XDG_SESSION_TYPE': 'x11',\n",
       "        'XDG_VTNR': '2',\n",
       "        'XMODIFIERS': '@im=ibus',\n",
       "        'ZSH': '/home/alfio/.oh-my-zsh',\n",
       "        '_': '/home/alfio/.local/bin/jupyter',\n",
       "        '_CE_CONDA': '',\n",
       "        '_CE_M': '',\n",
       "        '_JAVA_AWT_WM_NONREPARENTING': '1',\n",
       "        '_P9K_SSH_TTY': '/dev/pts/2',\n",
       "        '_P9K_TTY': '/dev/pts/2',\n",
       "        'P9K_SSH': '0',\n",
       "        'JPY_PARENT_PID': '169413',\n",
       "        'CLICOLOR': '1',\n",
       "        'GIT_PAGER': 'cat',\n",
       "        'MPLBACKEND': 'module://matplotlib_inline.backend_inline',\n",
       "        'DB_HOST': 'localhost',\n",
       "        'DB_PORT': '25433',\n",
       "        'DB_USER': 'postgres',\n",
       "        'DB_PASSWORD': 'password',\n",
       "        'DB_NAME': 'postgres'}"
      ]
     },
     "execution_count": 81,
     "metadata": {},
     "output_type": "execute_result"
    }
   ],
   "source": [
    "os.environ"
   ]
  },
  {
   "cell_type": "code",
   "execution_count": 112,
   "id": "8d91df03-0169-4cc2-a179-5796470ff765",
   "metadata": {},
   "outputs": [
    {
     "name": "stdout",
     "output_type": "stream",
     "text": [
      " sr_returned_date_sk | sr_return_time_sk | sr_item_sk | sr_customer_sk | sr_cdemo_sk | sr_hdemo_sk | sr_addr_sk | sr_store_sk | sr_reason_sk | sr_ticket_number | sr_return_quantity | sr_return_amt | sr_return_tax | sr_return_amt_inc_tax | sr_fee | sr_return_ship_cost | sr_refunded_cash | sr_reversed_charge | sr_store_credit | sr_net_loss \n",
      "---------------------+-------------------+------------+----------------+-------------+-------------+------------+-------------+--------------+------------------+--------------------+---------------+---------------+-----------------------+--------+---------------------+------------------+--------------------+-----------------+-------------\n",
      "(0 rows)\n",
      "\n"
     ]
    },
    {
     "data": {
      "text/plain": [
       "CompletedProcess(args=['psql', '-d', 'tpcds', '-c', 'select * from store_returns'], returncode=0)"
      ]
     },
     "execution_count": 112,
     "metadata": {},
     "output_type": "execute_result"
    }
   ],
   "source": [
    "#insert\n",
    "\n",
    "import subprocess\n",
    "import os\n",
    "\n",
    "db_name = \"tpcds\"\n",
    "\n",
    "# psql command\n",
    "command = [\n",
    "    \"psql\",\n",
    "    \"-d\", db_name,      # dbname\n",
    "    \"-f\", \"\"  # SQL file to execute\n",
    "]\n",
    "\n",
    "# copy the env\n",
    "env = os.environ.copy()\n",
    "\n",
    "# run command as subprocess\n",
    "subprocess.run(command, env=env)"
   ]
  },
  {
   "cell_type": "code",
   "execution_count": 72,
   "id": "f47515db-2649-48fa-8109-f31c246aca64",
   "metadata": {},
   "outputs": [
    {
     "name": "stdout",
     "output_type": "stream",
     "text": [
      "SQL Status Output:\n",
      " ALTER TABLE\n"
     ]
    }
   ],
   "source": [
    "# add constraints to db\n",
    "\n",
    "cur.execute(open(\"tpcds_ri.sql\", \"r\").read())\n",
    "print(\"SQL Status Output:\\n\", cur.statusmessage)\n"
   ]
  },
  {
   "cell_type": "code",
   "execution_count": 73,
   "id": "f0d52bc3-9907-4fed-81b0-fb0cc196cafe",
   "metadata": {},
   "outputs": [],
   "source": [
    "# close connection to db\n",
    "\n",
    "cur.close()"
   ]
  },
  {
   "cell_type": "markdown",
   "id": "e1e9cc6c-0819-4a8d-bf9a-5b26b7611b0c",
   "metadata": {},
   "source": [
    "#### End of script."
   ]
  }
 ],
 "metadata": {
  "kernelspec": {
   "display_name": "Python 3 (ipykernel)",
   "language": "python",
   "name": "python3"
  },
  "language_info": {
   "codemirror_mode": {
    "name": "ipython",
    "version": 3
   },
   "file_extension": ".py",
   "mimetype": "text/x-python",
   "name": "python",
   "nbconvert_exporter": "python",
   "pygments_lexer": "ipython3",
   "version": "3.10.7"
  }
 },
 "nbformat": 4,
 "nbformat_minor": 5
}
